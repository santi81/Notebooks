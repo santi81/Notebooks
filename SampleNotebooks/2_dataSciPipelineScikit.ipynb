{
 "cells": [
  {
   "cell_type": "markdown",
   "metadata": {},
   "source": [
    "# Data Science Pipeline using Scikit Learn\n"
   ]
  },
  {
   "cell_type": "markdown",
   "metadata": {},
   "source": [
    "# Import Standard Tools Pandas, Scikit, Numpy, Scipy, Matplotlib"
   ]
  },
  {
   "cell_type": "code",
   "execution_count": 1,
   "metadata": {
    "collapsed": false
   },
   "outputs": [],
   "source": [
    "import pandas as pd\n",
    "import sklearn as sk\n",
    "import numpy as np\n",
    "import scipy as sc\n",
    "import matplotlib as mpl\n",
    "import matplotlib.pyplot as plt\n",
    "np.random.seed(sum(map(ord, \"aesthetics\")))\n",
    "\n",
    "# pandas provides data frames \n",
    "# scikit-learn is a machine learning library\n",
    "# numpy and scipy are the numeric and scientific python packages\n",
    "# Set some pandas options for controlling output\n",
    "\n",
    "pd.set_option('display.notebook_repr_html', False)\n",
    "pd.set_option('display.max_columns', 20)\n",
    "pd.set_option('display.max_rows', 20)\n",
    "plt.style.use('ggplot')\n",
    "%matplotlib inline"
   ]
  },
  {
   "cell_type": "markdown",
   "metadata": {},
   "source": [
    "# Read the file, show some output"
   ]
  },
  {
   "cell_type": "code",
   "execution_count": 2,
   "metadata": {
    "collapsed": false
   },
   "outputs": [
    {
     "name": "stdout",
     "output_type": "stream",
     "text": [
      "type of object iris is <class 'pandas.core.frame.DataFrame'>\n",
      "\n",
      "\n",
      "Print the first few rows\n",
      "   sepal length  sepal width  petal length  petal width       target\n",
      "0           5.1          3.5           1.4          0.2  Iris-setosa\n",
      "1           4.9          3.0           1.4          0.2  Iris-setosa\n",
      "2           4.7          3.2           1.3          0.2  Iris-setosa\n",
      "3           4.6          3.1           1.5          0.2  Iris-setosa\n",
      "4           5.0          3.6           1.4          0.2  Iris-setosa\n",
      "\n",
      "\n",
      "Print the last few rows\n",
      "     sepal length  sepal width  petal length  petal width          target\n",
      "145           6.7          3.0           5.2          2.3  Iris-virginica\n",
      "146           6.3          2.5           5.0          1.9  Iris-virginica\n",
      "147           6.5          3.0           5.2          2.0  Iris-virginica\n",
      "148           6.2          3.4           5.4          2.3  Iris-virginica\n",
      "149           5.9          3.0           5.1          1.8  Iris-virginica\n"
     ]
    }
   ],
   "source": [
    "# Iris Dataset is a MultiClass Classification Example\n",
    "# 3 types : 'Iris-setosa', 'Iris-versicolor', 'Iris-virginica'\n",
    "# 150 examples \n",
    "#\n",
    "\n",
    "iris_filename = '/data/datasets-uci-iris.csv'\n",
    "\n",
    "#Task :  read iris dataset to a dataframe named iris \n",
    "iris = pd.read_csv(iris_filename, header=None, names= ['sepal length', 'sepal width', 'petal length', 'petal width', 'target'])\n",
    "\n",
    "#iris is of the DataFrame Class\n",
    "print(\"type of object iris is %s\" % type(iris))\n",
    "print(\"\")\n",
    "print(\"\")\n",
    "\n",
    "#print the first few rows\n",
    "print(\"Print the first few rows\")\n",
    "print(iris.head())\n",
    "\n",
    "print(\"\")\n",
    "print(\"\")\n",
    "\n",
    "#print the last few rows\n",
    "print(\"Print the last few rows\")\n",
    "print(iris.tail())"
   ]
  },
  {
   "cell_type": "markdown",
   "metadata": {},
   "source": [
    "# Exploratory Data Analysis"
   ]
  },
  {
   "cell_type": "code",
   "execution_count": 3,
   "metadata": {
    "collapsed": false
   },
   "outputs": [
    {
     "name": "stdout",
     "output_type": "stream",
     "text": [
      "Column Based Statistics\n"
     ]
    },
    {
     "data": {
      "text/plain": [
       "       sepal length  sepal width  petal length  petal width\n",
       "count    150.000000   150.000000    150.000000   150.000000\n",
       "mean       5.843333     3.054000      3.758667     1.198667\n",
       "std        0.828066     0.433594      1.764420     0.763161\n",
       "min        4.300000     2.000000      1.000000     0.100000\n",
       "25%        5.100000     2.800000      1.600000     0.300000\n",
       "50%        5.800000     3.000000      4.350000     1.300000\n",
       "75%        6.400000     3.300000      5.100000     1.800000\n",
       "max        7.900000     4.400000      6.900000     2.500000"
      ]
     },
     "execution_count": 3,
     "metadata": {},
     "output_type": "execute_result"
    }
   ],
   "source": [
    "#Compute some column based statistics\n",
    "#Note: Only computes numerical statistics for columns with numerical data , target column is ignored \n",
    "#use the Pandas DataFrame's describe method\n",
    "\n",
    "print(\"Column Based Statistics\")\n",
    "iris.describe()"
   ]
  },
  {
   "cell_type": "code",
   "execution_count": 4,
   "metadata": {
    "collapsed": false
   },
   "outputs": [
    {
     "name": "stdout",
     "output_type": "stream",
     "text": [
      "[ 0.08333333  0.          0.25        0.33333333  0.25        0.\n",
      "  0.66666667  0.41666667  0.75        1.16666667  0.          0.83333333\n",
      "  2.16666667  1.          0.          1.08333333  0.5         1.          0.5\n",
      "  0.          0.25        0.25        0.5         0.16666667  0.08333333\n",
      "  0.          0.08333333  0.08333333  0.          0.08333333]\n"
     ]
    },
    {
     "data": {
      "image/png": "[encoded data removed]",
      "text/plain": [
       "<matplotlib.figure.Figure at 0x114bc0e90>"
      ]
     },
     "metadata": {},
     "output_type": "display_data"
    },
    {
     "data": {
      "image/png": "[encoded data removed]",
      "text/plain": [
       "<matplotlib.figure.Figure at 0x117f63dd0>"
      ]
     },
     "metadata": {},
     "output_type": "display_data"
    }
   ],
   "source": [
    "#Density Plot \n",
    "\n",
    "#Consider the column \"sepal length\"\n",
    "#plot the Probability Density and visulize the data distribution \n",
    "#Function to use: NUMPY's Histogram Function and MatplotLib's plt (bar, show)\n",
    "\n",
    "\n",
    "hist, bins = np.histogram(iris[\"sepal width\"].values, bins=30,density=True)\n",
    "print(hist)\n",
    "width = 0.5 * (bins[1] - bins[0])\n",
    "center = (bins[:-1] + bins[1:]) / 2\n",
    "plt.bar(center,hist/sum(hist), align='center', width=width)\n",
    "plt.show()\n",
    "\n",
    "\n",
    "#histogram of a given column\n",
    "\n",
    "plt.hist(iris['sepal width'], bins=20)\n",
    "plt.xlabel(\"sepal width distribution\")\n",
    "plt.show()"
   ]
  },
  {
   "cell_type": "code",
   "execution_count": 5,
   "metadata": {
    "collapsed": false
   },
   "outputs": [
    {
     "name": "stdout",
     "output_type": "stream",
     "text": [
      "['Iris-setosa' 'Iris-versicolor' 'Iris-virginica']\n",
      "()\n",
      "()\n",
      "Iris-setosa        50\n",
      "Iris-versicolor    50\n",
      "Iris-virginica     50\n",
      "Name: target, dtype: int64\n"
     ]
    }
   ],
   "source": [
    "#Lets check the target value distribution\n",
    "#how many unique types do we have ???\n",
    "#what is the distribution\n",
    "\n",
    "#print the unique values in the target column?\n",
    "#use the function: DataFrame's unique()\n",
    "\n",
    "print(iris.target.unique())\n",
    "print()\n",
    "print()\n",
    "\n",
    "#print the counts of values of each unique value in the target column?\n",
    "#function DataFrame's value_counts()\n",
    "print(iris.target.value_counts())"
   ]
  },
  {
   "cell_type": "code",
   "execution_count": 6,
   "metadata": {
    "collapsed": false
   },
   "outputs": [
    {
     "data": {
      "image/png": "[encoded data removed]",
      "text/plain": [
       "<matplotlib.figure.Figure at 0x1054edc10>"
      ]
     },
     "metadata": {},
     "output_type": "display_data"
    }
   ],
   "source": [
    "#BOX PLOT \n",
    "'''\n",
    "5-number SUMMARY \n",
    "\n",
    "The box plot (a.k.a. box and whisker diagram) is a \n",
    "standardized way of displaying the distribution of \n",
    "data based on the five number summary: \n",
    "minimum, first quartile, median, third quartile, and maximum\n",
    "\n",
    "'''\n",
    "\n",
    "\n",
    "retval=iris.boxplot(return_type='dict')\n",
    "\n",
    "#NOTE\n",
    "#retval and return_type='dict' to suppress return type printout and warning messages due to python version"
   ]
  },
  {
   "cell_type": "code",
   "execution_count": 7,
   "metadata": {
    "collapsed": false
   },
   "outputs": [
    {
     "data": {
      "image/png": "[encoded data removed]",
      "text/plain": [
       "<matplotlib.figure.Figure at 0x117fb5610>"
      ]
     },
     "metadata": {},
     "output_type": "display_data"
    }
   ],
   "source": [
    "#BOX PLOT Grouped by Other COLUMN\n",
    "\n",
    "#WHICH FEATURE CAN HELP ME CLASSIFY THE BEST ??????????\n",
    "\n",
    "retval=iris.boxplot(return_type='dict',by=\"target\")"
   ]
  },
  {
   "cell_type": "code",
   "execution_count": 8,
   "metadata": {
    "collapsed": false
   },
   "outputs": [
    {
     "data": {
      "text/plain": [
       "     sepal length  sepal width  petal length  petal width\n",
       "0.1           4.8         2.50          1.40          0.2\n",
       "0.5           5.8         3.00          4.35          1.3\n",
       "0.9           6.9         3.61          5.80          2.2"
      ]
     },
     "execution_count": 8,
     "metadata": {},
     "output_type": "execute_result"
    }
   ],
   "source": [
    "#Print some quantile information 10% , 90%\n",
    "\n",
    "#Use DataFrame's Quantile Function\n",
    "#iris.quantile(list of qunatile)\n",
    "\n",
    "#the .1 and .9 qunatiles\n",
    "iris.quantile([0.1, 0.9])\n",
    "\n",
    "#the 0.1 0.5 0.9 quantiles\n",
    "iris.quantile([0.1, 0.5, 0.9])"
   ]
  },
  {
   "cell_type": "code",
   "execution_count": 9,
   "metadata": {
    "collapsed": false
   },
   "outputs": [
    {
     "data": {
      "text/plain": [
       "<matplotlib.text.Text at 0x11c493550>"
      ]
     },
     "execution_count": 9,
     "metadata": {},
     "output_type": "execute_result"
    },
    {
     "data": {
      "image/png": "[encoded data removed]",
      "text/plain": [
       "<matplotlib.figure.Figure at 0x11c2e09d0>"
      ]
     },
     "metadata": {},
     "output_type": "display_data"
    }
   ],
   "source": [
    "\n",
    "#Scatter Plot to see the relationship between 2 variables/features (Numerical Only)\n",
    "\n",
    "plt.scatter(iris['petal width'], iris['petal length'], alpha=1.0, color='r')\n",
    "plt.xlabel(\"petal width\")\n",
    "plt.ylabel(\"petal length\")"
   ]
  },
  {
   "cell_type": "code",
   "execution_count": 10,
   "metadata": {
    "collapsed": false
   },
   "outputs": [
    {
     "data": {
      "text/plain": [
       "array([[<matplotlib.axes._subplots.AxesSubplot object at 0x11c4a4b90>,\n",
       "        <matplotlib.axes._subplots.AxesSubplot object at 0x11b83b790>,\n",
       "        <matplotlib.axes._subplots.AxesSubplot object at 0x11b6e8d10>,\n",
       "        <matplotlib.axes._subplots.AxesSubplot object at 0x11b803d10>],\n",
       "       [<matplotlib.axes._subplots.AxesSubplot object at 0x117f02350>,\n",
       "        <matplotlib.axes._subplots.AxesSubplot object at 0x117f3e650>,\n",
       "        <matplotlib.axes._subplots.AxesSubplot object at 0x11b62b510>,\n",
       "        <matplotlib.axes._subplots.AxesSubplot object at 0x117e8c710>],\n",
       "       [<matplotlib.axes._subplots.AxesSubplot object at 0x11ba4cd90>,\n",
       "        <matplotlib.axes._subplots.AxesSubplot object at 0x11ba3fe10>,\n",
       "        <matplotlib.axes._subplots.AxesSubplot object at 0x11b5a5bd0>,\n",
       "        <matplotlib.axes._subplots.AxesSubplot object at 0x11c560c50>],\n",
       "       [<matplotlib.axes._subplots.AxesSubplot object at 0x11c791bd0>,\n",
       "        <matplotlib.axes._subplots.AxesSubplot object at 0x11c7feed0>,\n",
       "        <matplotlib.axes._subplots.AxesSubplot object at 0x11c882e50>,\n",
       "        <matplotlib.axes._subplots.AxesSubplot object at 0x11c8e7e90>]], dtype=object)"
      ]
     },
     "execution_count": 10,
     "metadata": {},
     "output_type": "execute_result"
    },
    {
     "data": {
      "image/png": "[encoded data removed]",
      "text/plain": [
       "<matplotlib.figure.Figure at 0x11c4c7a50>"
      ]
     },
     "metadata": {},
     "output_type": "display_data"
    }
   ],
   "source": [
    "from pandas.tools.plotting import scatter_matrix\n",
    "scatter_matrix(iris, alpha=0.4, figsize=(6, 6), diagonal='kde')\n"
   ]
  },
  {
   "cell_type": "code",
   "execution_count": 11,
   "metadata": {
    "collapsed": false
   },
   "outputs": [
    {
     "data": {
      "text/plain": [
       "<matplotlib.axes._subplots.AxesSubplot at 0x11c4e8190>"
      ]
     },
     "execution_count": 11,
     "metadata": {},
     "output_type": "execute_result"
    },
    {
     "data": {
      "image/png": "[encoded data removed]",
      "text/plain": [
       "<matplotlib.figure.Figure at 0x11ca8d990>"
      ]
     },
     "metadata": {},
     "output_type": "display_data"
    }
   ],
   "source": [
    "'''\n",
    "\n",
    "RadViz is a way of visualizing multi-variate data. \n",
    "It is based on a simple spring tension minimization algorithm. \n",
    "Basically you set up a bunch of points in a plane. In our case \n",
    "they are equally spaced on a unit circle. Each point represents \n",
    "a single attribute. You then pretend that each sample in the \n",
    "data set is attached to each of these points by a spring, \n",
    "the stiffness of which is proportional to the numerical value\n",
    "of that attribute (they are normalized to unit interval). \n",
    "The point in the plane, where our sample settles to \n",
    "(where the forces acting on our sample are at an equilibrium) \n",
    "is where a dot representing our sample will be drawn. \n",
    "Depending on which class that sample belongs it will be colored differently.\n",
    "\n",
    "Also consider t-sne - 2-dim viz of high-dimensional data\n",
    "'''\n",
    "from pandas.tools.plotting import radviz\n",
    "\n",
    "radviz(iris, 'target')\n"
   ]
  },
  {
   "cell_type": "markdown",
   "metadata": {},
   "source": [
    "# MultiClass Classifier"
   ]
  },
  {
   "cell_type": "code",
   "execution_count": 12,
   "metadata": {
    "collapsed": false
   },
   "outputs": [
    {
     "name": "stdout",
     "output_type": "stream",
     "text": [
      "Shape of Iris Data Matrix is (150, 5) \n",
      "Shapes of X and Y are (150, 4) (150,) \n"
     ]
    }
   ],
   "source": [
    "#Building a MultiClass Classifier \n",
    "\n",
    "#iris data\n",
    "#shape of the input data matrix : 150*5 Matrix \n",
    "print(\"Shape of Iris Data Matrix is %s \" % (iris.shape,))\n",
    "\n",
    "#Task 1: What is it that we want to Predict :   iris.target\n",
    "#Lets break data into X and Y where X is input feature matrix and Y is target\n",
    "Y= iris.target\n",
    "X= iris.drop([\"target\"],axis=1)\n",
    "\n",
    "print(\"Shapes of X and Y are %s %s \" %(X.shape,Y.shape,))"
   ]
  },
  {
   "cell_type": "code",
   "execution_count": 13,
   "metadata": {
    "collapsed": false
   },
   "outputs": [
    {
     "name": "stdout",
     "output_type": "stream",
     "text": [
      "Shapes of Training Data is (90, 4) (90,) \n",
      "Shapes of Testing Data is (60, 4) (60,) \n"
     ]
    }
   ],
   "source": [
    "#Task 2\n",
    "#Creating Training and Testing Data \n",
    "'''\n",
    " Training data is used to create a ML Model. However, the model is evaluated on the Test data.\n",
    " We are interested in how our model does on unseen data, i.e., the test data and not the train data\n",
    " on which the model was trained.\n",
    " \n",
    " 60% of data is used for training the model.\n",
    " 40% of data is used to evaluate the model using test data.\n",
    "\n",
    "'''\n",
    "\n",
    "from sklearn.cross_validation import train_test_split\n",
    "X_train, X_test, Y_train, Y_test = train_test_split(X, Y, test_size=0.40, random_state=4)\n",
    "\n",
    "print(\"Shapes of Training Data is %s %s \" %(X_train.shape,Y_train.shape,))\n",
    "\n",
    "print(\"Shapes of Testing Data is %s %s \" %(X_test.shape,Y_test.shape,))"
   ]
  },
  {
   "cell_type": "code",
   "execution_count": 14,
   "metadata": {
    "collapsed": false
   },
   "outputs": [],
   "source": [
    "#Task 3\n",
    "#Build Model on Training Data and Evaluate It \n",
    "\n",
    "#Decision Trees\n",
    "\n",
    "from sklearn.tree import DecisionTreeClassifier\n",
    "from sklearn import tree\n",
    "\n",
    "#init a DecisionTressClassifier object\n",
    "classifier = DecisionTreeClassifier(max_depth=3)\n",
    "\n",
    "#fit the training data\n",
    "classifier.fit(X_train, Y_train) \n",
    "\n",
    "#predict on training data\n",
    "train_pred = classifier.predict(X_train)\n",
    "\n",
    "#predict on test data \n",
    "test_pred = classifier.predict(X_test)\n",
    "\n",
    "\n",
    "\n",
    "\n"
   ]
  },
  {
   "cell_type": "code",
   "execution_count": 15,
   "metadata": {
    "collapsed": false
   },
   "outputs": [
    {
     "name": "stdout",
     "output_type": "stream",
     "text": [
      "('Train Accuracy:', 0.97777777777777775)\n",
      "('Test Accuracy:', 0.96666666666666667)\n"
     ]
    }
   ],
   "source": [
    "# how many predictions did we get right, Accuracy \n",
    "\n",
    "from sklearn import metrics\n",
    "print( \"Train Accuracy:\", metrics.accuracy_score(Y_train, train_pred))\n",
    "print( \"Test Accuracy:\", metrics.accuracy_score(Y_test, test_pred))\n",
    "\n"
   ]
  },
  {
   "cell_type": "code",
   "execution_count": 16,
   "metadata": {
    "collapsed": false
   },
   "outputs": [
    {
     "name": "stdout",
     "output_type": "stream",
     "text": [
      "Confusion Matrix for Training Data\n",
      "[[25  0  0]\n",
      " [ 0 32  1]\n",
      " [ 0  1 31]]\n",
      "Confusion Matrix for Test Data\n",
      "[[25  0  0]\n",
      " [ 0 17  0]\n",
      " [ 0  2 16]]\n"
     ]
    }
   ],
   "source": [
    "# Confusion Matrix is used to compute TruePos, FalsePos, TrueNeg, FalseNeg\n",
    "#This can be used to compute metrics like Precision, Recall, F1-Score which\n",
    "#are used to report classifier performance \n",
    "\n",
    "cmTest = metrics.confusion_matrix(Y_test, test_pred)\n",
    "cmTrain = metrics.confusion_matrix(Y_train, train_pred)\n",
    "\n",
    "print(\"Confusion Matrix for Training Data\")\n",
    "print(cmTrain)\n",
    "\n",
    "print(\"Confusion Matrix for Test Data\")\n",
    "print(cmTest)\n"
   ]
  },
  {
   "cell_type": "code",
   "execution_count": 17,
   "metadata": {
    "collapsed": false
   },
   "outputs": [
    {
     "name": "stdout",
     "output_type": "stream",
     "text": [
      "('Precision:', 0.97017543859649125)\n",
      "('Recall:', 0.96666666666666667)\n",
      "('F1 Score:', 0.96661220043572982)\n"
     ]
    }
   ],
   "source": [
    "#of the items we predicted to belong to a class C, how many did we get right\n",
    "print (\"Precision:\", metrics.precision_score(Y_test, test_pred, average='weighted'))\n",
    "\n",
    "#of the items which belong to class C, how many did we get right\n",
    "print (\"Recall:\", metrics.recall_score(Y_test, test_pred, average='weighted'))\n",
    "\n",
    "# a single number to represent performance, F1_Score = (2PR/(P+R))\n",
    "print (\"F1 Score:\", metrics.f1_score(Y_test, test_pred, average='weighted'))\n"
   ]
  },
  {
   "cell_type": "code",
   "execution_count": 18,
   "metadata": {
    "collapsed": false
   },
   "outputs": [
    {
     "name": "stdout",
     "output_type": "stream",
     "text": [
      "Index([u'sepal length', u'sepal width', u'petal length', u'petal width'], dtype='object')\n",
      "[ 0.          0.          0.07364029  0.92635971]\n"
     ]
    }
   ],
   "source": [
    "#Recall, we started with 4 features ?\n",
    "#what are the most important features\n",
    "#in ScikitLearn, you can find feature importances\n",
    "\n",
    "print(X.columns)\n",
    "print(classifier.feature_importances_)"
   ]
  },
  {
   "cell_type": "markdown",
   "metadata": {},
   "source": [
    "# Dimensionality Reduction "
   ]
  },
  {
   "cell_type": "code",
   "execution_count": 19,
   "metadata": {
    "collapsed": false
   },
   "outputs": [
    {
     "name": "stdout",
     "output_type": "stream",
     "text": [
      "[[ 0.80377277  0.55160877  0.22064351  0.0315205 ]\n",
      " [ 0.82813287  0.50702013  0.23660939  0.03380134]\n",
      " [ 0.80533308  0.54831188  0.2227517   0.03426949]\n",
      " [ 0.80003025  0.53915082  0.26087943  0.03478392]\n",
      " [ 0.790965    0.5694948   0.2214702   0.0316386 ]]\n"
     ]
    }
   ],
   "source": [
    "#lets reduce iris dataset dimensionality to 2 from 4 \n",
    "\n",
    "from sklearn.decomposition import PCA\n",
    "from sklearn.preprocessing import StandardScaler,Normalizer\n",
    "\n",
    "#Step 1: Normalize Numerical Data Columns\n",
    "#PCA requires all columns to be scaled to a similar range (Preprocessing)\n",
    "#Normalizer Normalize samples individually to unit norm.\n",
    "scaler=Normalizer()\n",
    "Xscaled=scaler.fit_transform(X)\n",
    "print(Xscaled[0:5,:])\n",
    "\n"
   ]
  },
  {
   "cell_type": "code",
   "execution_count": 20,
   "metadata": {
    "collapsed": false
   },
   "outputs": [
    {
     "name": "stdout",
     "output_type": "stream",
     "text": [
      "0      1\n",
      "1      1\n",
      "2      1\n",
      "3      1\n",
      "4      1\n",
      "5      1\n",
      "6      1\n",
      "7      1\n",
      "8      1\n",
      "9      1\n",
      "      ..\n",
      "140    1\n",
      "141    1\n",
      "142    1\n",
      "143    1\n",
      "144    1\n",
      "145    1\n",
      "146    1\n",
      "147    1\n",
      "148    1\n",
      "149    1\n",
      "dtype: float64\n"
     ]
    }
   ],
   "source": [
    "#Check what Normalizer does, makes each feature vector's L2 Norm == 1 \n",
    "def compL2Norm(data):\n",
    "    return np.linalg.norm(data)\n",
    "\n",
    "#apply function compL2Norm to each feature vector\n",
    "normValues = pd.DataFrame(Xscaled).apply(compL2Norm,axis=1)\n",
    "\n",
    "print(normValues)"
   ]
  },
  {
   "cell_type": "code",
   "execution_count": 21,
   "metadata": {
    "collapsed": false
   },
   "outputs": [
    {
     "name": "stdout",
     "output_type": "stream",
     "text": [
      "[ 0.96210389  0.02788074]\n"
     ]
    }
   ],
   "source": [
    "#Step 2 : Do PCA\n",
    "pca = PCA(n_components=2)\n",
    "pca.fit(Xscaled)\n",
    "\n",
    "#What fraction of information is contained \n",
    "print(pca.explained_variance_ratio_) \n",
    "\n"
   ]
  },
  {
   "cell_type": "code",
   "execution_count": 22,
   "metadata": {
    "collapsed": false
   },
   "outputs": [
    {
     "name": "stdout",
     "output_type": "stream",
     "text": [
      "[ 0.92461621  0.05301557]\n"
     ]
    }
   ],
   "source": [
    "#Suppose we did not NORMALIZE ??? We explain less variance \n",
    "\n",
    "pcaUnNorm = PCA(n_components=2)\n",
    "pcaUnNorm.fit(X)\n",
    "\n",
    "#What fraction of information is contained \n",
    "print(pcaUnNorm.explained_variance_ratio_) "
   ]
  },
  {
   "cell_type": "code",
   "execution_count": 23,
   "metadata": {
    "collapsed": false
   },
   "outputs": [
    {
     "name": "stdout",
     "output_type": "stream",
     "text": [
      "(150, 2)\n"
     ]
    }
   ],
   "source": [
    "#Step 3: Get a new dataset with reduced dimensions\n",
    "Xreduced = pca.transform(X)\n",
    "print(Xreduced.shape)\n",
    "\n"
   ]
  },
  {
   "cell_type": "code",
   "execution_count": 24,
   "metadata": {
    "collapsed": false
   },
   "outputs": [
    {
     "name": "stdout",
     "output_type": "stream",
     "text": [
      "Shapes of Training Data is (90, 2) (90,) \n",
      "Shapes of Testing Data is (60, 2) (60,) \n",
      "('Train Accuracy:', 0.98888888888888893)\n",
      "('Test Accuracy:', 0.96666666666666667)\n",
      "('Precision:', 0.97000000000000008)\n",
      "('Recall:', 0.96666666666666667)\n",
      "('F1 Score:', 0.96650219298245621)\n"
     ]
    }
   ],
   "source": [
    "#Step 4: Build Classifier on this new low-dim dataset\n",
    "classifier = DecisionTreeClassifier(max_depth=2)\n",
    "\n",
    "#get train/test data using Xreduced and Y\n",
    "X_train, X_test, Y_train, Y_test = train_test_split(Xreduced, Y, test_size=0.40, random_state=4)\n",
    "print(\"Shapes of Training Data is %s %s \" %(X_train.shape,Y_train.shape,))\n",
    "\n",
    "print(\"Shapes of Testing Data is %s %s \" %(X_test.shape,Y_test.shape,))\n",
    "\n",
    "#fit\n",
    "classifier.fit(X_train, Y_train) \n",
    "\n",
    "#predict\n",
    "train_pred = classifier.predict(X_train)\n",
    "test_pred = classifier.predict(X_test)\n",
    "\n",
    "\n",
    "from sklearn import metrics\n",
    "print( \"Train Accuracy:\", metrics.accuracy_score(Y_train, train_pred))\n",
    "print( \"Test Accuracy:\", metrics.accuracy_score(Y_test, test_pred))\n",
    "\n",
    "\n",
    "print (\"Precision:\", metrics.precision_score(Y_test, test_pred, average='weighted'))\n",
    "print (\"Recall:\", metrics.recall_score(Y_test, test_pred, average='weighted'))\n",
    "print (\"F1 Score:\", metrics.f1_score(Y_test, test_pred, average='weighted'))"
   ]
  },
  {
   "cell_type": "markdown",
   "metadata": {},
   "source": [
    "# CrossValidation"
   ]
  },
  {
   "cell_type": "code",
   "execution_count": 25,
   "metadata": {
    "collapsed": false
   },
   "outputs": [
    {
     "name": "stdout",
     "output_type": "stream",
     "text": [
      "((150, 4), (150,))\n",
      "<class 'pandas.core.frame.DataFrame'>\n",
      "('TRAIN:', array([ 30,  31,  32,  33,  34,  35,  36,  37,  38,  39,  40,  41,  42,\n",
      "        43,  44,  45,  46,  47,  48,  49,  50,  51,  52,  53,  54,  55,\n",
      "        56,  57,  58,  59,  60,  61,  62,  63,  64,  65,  66,  67,  68,\n",
      "        69,  70,  71,  72,  73,  74,  75,  76,  77,  78,  79,  80,  81,\n",
      "        82,  83,  84,  85,  86,  87,  88,  89,  90,  91,  92,  93,  94,\n",
      "        95,  96,  97,  98,  99, 100, 101, 102, 103, 104, 105, 106, 107,\n",
      "       108, 109, 110, 111, 112, 113, 114, 115, 116, 117, 118, 119, 120,\n",
      "       121, 122, 123, 124, 125, 126, 127, 128, 129, 130, 131, 132, 133,\n",
      "       134, 135, 136, 137, 138, 139, 140, 141, 142, 143, 144, 145, 146,\n",
      "       147, 148, 149]), 'TEST:', array([ 0,  1,  2,  3,  4,  5,  6,  7,  8,  9, 10, 11, 12, 13, 14, 15, 16,\n",
      "       17, 18, 19, 20, 21, 22, 23, 24, 25, 26, 27, 28, 29]))\n",
      "((120, 4), (30, 4), (120,), (30,))\n",
      "()\n",
      "('TRAIN:', array([  0,   1,   2,   3,   4,   5,   6,   7,   8,   9,  10,  11,  12,\n",
      "        13,  14,  15,  16,  17,  18,  19,  20,  21,  22,  23,  24,  25,\n",
      "        26,  27,  28,  29,  60,  61,  62,  63,  64,  65,  66,  67,  68,\n",
      "        69,  70,  71,  72,  73,  74,  75,  76,  77,  78,  79,  80,  81,\n",
      "        82,  83,  84,  85,  86,  87,  88,  89,  90,  91,  92,  93,  94,\n",
      "        95,  96,  97,  98,  99, 100, 101, 102, 103, 104, 105, 106, 107,\n",
      "       108, 109, 110, 111, 112, 113, 114, 115, 116, 117, 118, 119, 120,\n",
      "       121, 122, 123, 124, 125, 126, 127, 128, 129, 130, 131, 132, 133,\n",
      "       134, 135, 136, 137, 138, 139, 140, 141, 142, 143, 144, 145, 146,\n",
      "       147, 148, 149]), 'TEST:', array([30, 31, 32, 33, 34, 35, 36, 37, 38, 39, 40, 41, 42, 43, 44, 45, 46,\n",
      "       47, 48, 49, 50, 51, 52, 53, 54, 55, 56, 57, 58, 59]))\n",
      "((120, 4), (30, 4), (120,), (30,))\n",
      "()\n",
      "('TRAIN:', array([  0,   1,   2,   3,   4,   5,   6,   7,   8,   9,  10,  11,  12,\n",
      "        13,  14,  15,  16,  17,  18,  19,  20,  21,  22,  23,  24,  25,\n",
      "        26,  27,  28,  29,  30,  31,  32,  33,  34,  35,  36,  37,  38,\n",
      "        39,  40,  41,  42,  43,  44,  45,  46,  47,  48,  49,  50,  51,\n",
      "        52,  53,  54,  55,  56,  57,  58,  59,  90,  91,  92,  93,  94,\n",
      "        95,  96,  97,  98,  99, 100, 101, 102, 103, 104, 105, 106, 107,\n",
      "       108, 109, 110, 111, 112, 113, 114, 115, 116, 117, 118, 119, 120,\n",
      "       121, 122, 123, 124, 125, 126, 127, 128, 129, 130, 131, 132, 133,\n",
      "       134, 135, 136, 137, 138, 139, 140, 141, 142, 143, 144, 145, 146,\n",
      "       147, 148, 149]), 'TEST:', array([60, 61, 62, 63, 64, 65, 66, 67, 68, 69, 70, 71, 72, 73, 74, 75, 76,\n",
      "       77, 78, 79, 80, 81, 82, 83, 84, 85, 86, 87, 88, 89]))\n",
      "((120, 4), (30, 4), (120,), (30,))\n",
      "()\n",
      "('TRAIN:', array([  0,   1,   2,   3,   4,   5,   6,   7,   8,   9,  10,  11,  12,\n",
      "        13,  14,  15,  16,  17,  18,  19,  20,  21,  22,  23,  24,  25,\n",
      "        26,  27,  28,  29,  30,  31,  32,  33,  34,  35,  36,  37,  38,\n",
      "        39,  40,  41,  42,  43,  44,  45,  46,  47,  48,  49,  50,  51,\n",
      "        52,  53,  54,  55,  56,  57,  58,  59,  60,  61,  62,  63,  64,\n",
      "        65,  66,  67,  68,  69,  70,  71,  72,  73,  74,  75,  76,  77,\n",
      "        78,  79,  80,  81,  82,  83,  84,  85,  86,  87,  88,  89, 120,\n",
      "       121, 122, 123, 124, 125, 126, 127, 128, 129, 130, 131, 132, 133,\n",
      "       134, 135, 136, 137, 138, 139, 140, 141, 142, 143, 144, 145, 146,\n",
      "       147, 148, 149]), 'TEST:', array([ 90,  91,  92,  93,  94,  95,  96,  97,  98,  99, 100, 101, 102,\n",
      "       103, 104, 105, 106, 107, 108, 109, 110, 111, 112, 113, 114, 115,\n",
      "       116, 117, 118, 119]))\n",
      "((120, 4), (30, 4), (120,), (30,))\n",
      "()\n",
      "('TRAIN:', array([  0,   1,   2,   3,   4,   5,   6,   7,   8,   9,  10,  11,  12,\n",
      "        13,  14,  15,  16,  17,  18,  19,  20,  21,  22,  23,  24,  25,\n",
      "        26,  27,  28,  29,  30,  31,  32,  33,  34,  35,  36,  37,  38,\n",
      "        39,  40,  41,  42,  43,  44,  45,  46,  47,  48,  49,  50,  51,\n",
      "        52,  53,  54,  55,  56,  57,  58,  59,  60,  61,  62,  63,  64,\n",
      "        65,  66,  67,  68,  69,  70,  71,  72,  73,  74,  75,  76,  77,\n",
      "        78,  79,  80,  81,  82,  83,  84,  85,  86,  87,  88,  89,  90,\n",
      "        91,  92,  93,  94,  95,  96,  97,  98,  99, 100, 101, 102, 103,\n",
      "       104, 105, 106, 107, 108, 109, 110, 111, 112, 113, 114, 115, 116,\n",
      "       117, 118, 119]), 'TEST:', array([120, 121, 122, 123, 124, 125, 126, 127, 128, 129, 130, 131, 132,\n",
      "       133, 134, 135, 136, 137, 138, 139, 140, 141, 142, 143, 144, 145,\n",
      "       146, 147, 148, 149]))\n",
      "((120, 4), (30, 4), (120,), (30,))\n",
      "()\n"
     ]
    }
   ],
   "source": [
    "#CV : Our training data is small. We used 60-40 train/test split. Lets use CV. Technique to create more number of datasets \n",
    "#small sized data set \n",
    "\n",
    "from sklearn.cross_validation import KFold\n",
    "\n",
    "kf = KFold(X.shape[0], n_folds=5)\n",
    "print(X.shape,Y.shape)\n",
    "print(type(X))\n",
    "\n",
    "for train_index, test_index in kf:\n",
    "    print(\"TRAIN:\", train_index, \"TEST:\", test_index)\n",
    "    \n",
    "    X_train, X_test = X.ix[train_index], X.ix[test_index]\n",
    "    y_train, y_test = Y[train_index], Y[test_index]\n",
    "\n",
    "    print(X_train.shape,X_test.shape,y_train.shape,y_test.shape)\n",
    "    print()"
   ]
  },
  {
   "cell_type": "code",
   "execution_count": 26,
   "metadata": {
    "collapsed": false
   },
   "outputs": [
    {
     "name": "stdout",
     "output_type": "stream",
     "text": [
      "(array([ 0.93333333,  0.96666667,  0.9       ,  0.86666667,  1.        ]), 0.93333333333333324)\n"
     ]
    }
   ],
   "source": [
    "from sklearn.cross_validation import cross_val_score\n",
    "from sklearn import cross_validation\n",
    "\n",
    "#what model to use \n",
    "clf=DecisionTreeClassifier(max_depth=2)\n",
    "\n",
    "#compute CV dataset score and the mean\n",
    "scores = cross_validation.cross_val_score(clf,X,Y, cv=5)\n",
    "print(scores , np.mean(scores))"
   ]
  },
  {
   "cell_type": "markdown",
   "metadata": {},
   "source": [
    "# Pipelines: Automate and Do it at one go !!"
   ]
  },
  {
   "cell_type": "code",
   "execution_count": 27,
   "metadata": {
    "collapsed": false
   },
   "outputs": [],
   "source": [
    "#Build a Pipeline of steps \n",
    "#Normalizer , PCA , DecisionTree \n",
    "#Eval\n",
    "\n",
    "#Scikit Learn provides great functionality to build ML Pipelines\n",
    "#Define Pipeline\n",
    "\n",
    "from sklearn import grid_search\n",
    "from sklearn import pipeline\n",
    "\n",
    "scalerP=Normalizer()\n",
    "pcaP = PCA(n_components=2)\n",
    "clfP = DecisionTreeClassifier(max_depth=2)\n",
    "clf = pipeline.Pipeline([('Norm', scalerP),('PCA', pcaP),(\"model\",clfP)])\n",
    "\n"
   ]
  },
  {
   "cell_type": "code",
   "execution_count": 28,
   "metadata": {
    "collapsed": false
   },
   "outputs": [
    {
     "name": "stdout",
     "output_type": "stream",
     "text": [
      "Fitting 2 folds for each of 1 candidates, totalling 2 fits\n",
      "Best score: 0.980\n",
      "Best parameters set:\n",
      "[CV]  ................................................................\n",
      "[CV]  ................................................................\n",
      "[CV] ....................................... , score=0.973333 -   0.0s\n",
      "[CV] ....................................... , score=0.986667 -   0.0s\n"
     ]
    },
    {
     "name": "stderr",
     "output_type": "stream",
     "text": [
      "[Parallel(n_jobs=-1)]: Batch computation too fast (0.0359s.) Setting batch_size=10.\n",
      "[Parallel(n_jobs=-1)]: Done   3 out of   2 | elapsed:    0.0s remaining:   -0.0s\n",
      "[Parallel(n_jobs=-1)]: Done   2 out of   2 | elapsed:    0.0s finished\n"
     ]
    }
   ],
   "source": [
    "\n",
    "param_grid = {}  \n",
    "model = grid_search.GridSearchCV(estimator = clf,param_grid=param_grid, verbose=10,\n",
    "                                 n_jobs=-1, iid=True, refit=True, cv=2)  \n",
    "model.fit(X, Y)\n",
    "print(\"Best score: %0.3f\" % model.best_score_)\n",
    "print(\"Best parameters set:\")\n"
   ]
  },
  {
   "cell_type": "code",
   "execution_count": 29,
   "metadata": {
    "collapsed": false
   },
   "outputs": [
    {
     "name": "stdout",
     "output_type": "stream",
     "text": [
      "('Test Accuracy:', 0.96666666666666667)\n",
      "('Precision:', 0.97000000000000008)\n",
      "('Recall:', 0.96666666666666667)\n",
      "('F1 Score:', 0.96650219298245621)\n"
     ]
    }
   ],
   "source": [
    "best_parameters = model.best_estimator_.get_params()\n",
    "best_model = model.best_estimator_\n",
    "best_model.fit(X,Y)\n",
    "preds = best_model.predict(X_test)\n",
    "\n",
    "print( \"Test Accuracy:\", metrics.accuracy_score(Y_test, test_pred))\n",
    "print (\"Precision:\", metrics.precision_score(Y_test, test_pred, average='weighted'))\n",
    "print (\"Recall:\", metrics.recall_score(Y_test, test_pred, average='weighted'))\n",
    "print (\"F1 Score:\", metrics.f1_score(Y_test, test_pred, average='weighted'))"
   ]
  },
  {
   "cell_type": "code",
   "execution_count": 30,
   "metadata": {
    "collapsed": false
   },
   "outputs": [
    {
     "name": "stdout",
     "output_type": "stream",
     "text": [
      "Fitting 2 folds for each of 6 candidates, totalling 12 fits\n"
     ]
    },
    {
     "name": "stderr",
     "output_type": "stream",
     "text": [
      "[Parallel(n_jobs=-1)]: Done   1 tasks      | elapsed:    0.0s\n",
      "[Parallel(n_jobs=-1)]: Batch computation too fast (0.0272s.) Setting batch_size=14.\n",
      "[Parallel(n_jobs=-1)]: Done  12 out of  12 | elapsed:    0.3s finished\n"
     ]
    },
    {
     "name": "stdout",
     "output_type": "stream",
     "text": [
      "Best score: 0.980\n",
      "Best parameters set:\n",
      "[CV] modelDT__max_depth=1, PCA__n_components=2 .......................\n",
      "[CV] modelDT__max_depth=1, PCA__n_components=2 .......................\n",
      "[CV] modelDT__max_depth=2, PCA__n_components=2 .......................\n",
      "[CV] modelDT__max_depth=2, PCA__n_components=2 .......................\n",
      "[CV] modelDT__max_depth=3, PCA__n_components=2 .......................\n",
      "[CV] modelDT__max_depth=3, PCA__n_components=2 .......................\n",
      "[CV]  modelDT__max_depth=1, PCA__n_components=2, score=0.666667 -   0.0s\n",
      "[CV]  modelDT__max_depth=1, PCA__n_components=2, score=0.666667 -   0.0s\n",
      "[CV]  modelDT__max_depth=2, PCA__n_components=2, score=0.973333 -   0.0s\n",
      "[CV]  modelDT__max_depth=2, PCA__n_components=2, score=0.986667 -   0.0s\n",
      "[CV]  modelDT__max_depth=3, PCA__n_components=2, score=0.973333 -   0.0s\n",
      "[CV]  modelDT__max_depth=3, PCA__n_components=2, score=0.986667 -   0.0s\n",
      "[CV] modelDT__max_depth=1, PCA__n_components=3 .......................\n",
      "[CV]  modelDT__max_depth=1, PCA__n_components=3, score=0.666667 -   0.0s\n",
      "[CV] modelDT__max_depth=1, PCA__n_components=3 .......................\n",
      "[CV]  modelDT__max_depth=1, PCA__n_components=3, score=0.666667 -   0.0s\n",
      "[CV] modelDT__max_depth=2, PCA__n_components=3 .......................\n",
      "[CV]  modelDT__max_depth=2, PCA__n_components=3, score=0.973333 -   0.0s\n",
      "[CV] modelDT__max_depth=2, PCA__n_components=3 .......................\n",
      "[CV]  modelDT__max_depth=2, PCA__n_components=3, score=0.986667 -   0.0s\n",
      "[CV] modelDT__max_depth=3, PCA__n_components=3 .......................\n",
      "[CV]  modelDT__max_depth=3, PCA__n_components=3, score=0.973333 -   0.1s\n",
      "[CV] modelDT__max_depth=3, PCA__n_components=3 .......................\n",
      "[CV]  modelDT__max_depth=3, PCA__n_components=3, score=0.986667 -   0.0s\n"
     ]
    }
   ],
   "source": [
    "#DO REAL GRID SEARCH \n",
    "\n",
    "scalerP=Normalizer()\n",
    "pcaP = PCA()\n",
    "clfP = DecisionTreeClassifier()\n",
    "clf = pipeline.Pipeline([('Norm', scalerP),('PCA', pcaP),(\"modelDT\",clfP)])\n",
    "\n",
    "\n",
    "\n",
    "param_grid = {'PCA__n_components':[2,3],'modelDT__max_depth':[1,2,3]}\n",
    "\n",
    "model = grid_search.GridSearchCV(estimator = clf,param_grid=param_grid, verbose=10,\n",
    "                                 n_jobs=-1, iid=True, refit=True, cv=2)  \n",
    "model.fit(X, Y)\n",
    "print(\"Best score: %0.3f\" % model.best_score_)\n",
    "print(\"Best parameters set:\")\n"
   ]
  },
  {
   "cell_type": "code",
   "execution_count": 31,
   "metadata": {
    "collapsed": false
   },
   "outputs": [
    {
     "name": "stdout",
     "output_type": "stream",
     "text": [
      "\tPCA__n_components: 2\n",
      "\tmodelDT__max_depth: 2\n",
      "('Test Accuracy:', 0.96666666666666667)\n",
      "('Precision:', 0.97000000000000008)\n",
      "('Recall:', 0.96666666666666667)\n",
      "('F1 Score:', 0.96650219298245621)\n"
     ]
    }
   ],
   "source": [
    "best_parameters = model.best_estimator_.get_params()\n",
    "best_model = model.best_estimator_\n",
    "best_model.fit(X,Y)\n",
    "preds = best_model.predict(X_test)\n",
    "\n",
    "for param_name in sorted(param_grid.keys()):\n",
    "    \tprint(\"\\t%s: %r\" % (param_name, best_parameters[param_name]))\n",
    "\n",
    "print( \"Test Accuracy:\", metrics.accuracy_score(Y_test, test_pred))\n",
    "print (\"Precision:\", metrics.precision_score(Y_test, test_pred, average='weighted'))\n",
    "print (\"Recall:\", metrics.recall_score(Y_test, test_pred, average='weighted'))\n",
    "print (\"F1 Score:\", metrics.f1_score(Y_test, test_pred, average='weighted'))"
   ]
  },
  {
   "cell_type": "markdown",
   "metadata": {},
   "source": [
    "# DONE"
   ]
  }
 ],
 "metadata": {
  "kernelspec": {
   "display_name": "Apache Toree - PySpark",
   "language": "python",
   "name": "apache_toree_pyspark"
  },
  "language_info": {
   "codemirror_mode": {
    "name": "ipython",
    "version": 2
   },
   "file_extension": ".py",
   "mimetype": "text/x-python",
   "name": "python",
   "nbconvert_exporter": "python",
   "pygments_lexer": "ipython2",
   "version": "2.7.10"
  }
 },
 "nbformat": 4,
 "nbformat_minor": 0
}
