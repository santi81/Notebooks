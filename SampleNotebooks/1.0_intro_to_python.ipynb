{
 "cells": [
  {
   "cell_type": "markdown",
   "metadata": {},
   "source": [
    "# Introduction to Python\n",
    "\n",
    "## What is Python?\n",
    "\n",
    ">Python is an open-source, general purpose programming language that is dynamic, strongly-typed, object-oriented, functional, memory-managed and above all, fun to use!\n",
    "\n",
    "**Open-source** - Python’s development is done in the open by a large and diverse community of volunteers\n",
    "\n",
    "**General purpose** - From simple scripts and command-line tools to web applications, network servers, GUIs, scientific applications, etc.\n",
    "\n",
    "**Dynamic** - Runtime objects (values) have a type, as opposed to static typing where variables have a type\n",
    "\n",
    "**Strongly-typed** - Only execute operations that are supported by the target type (\"A string containing only digits doesn't magically become a number, as may happen in Perl\")\n",
    "\n",
    "**Object oriented** - Supports all standard OOP features that Java has, e.g. classes, encapsulation, inheritance, polymorphism and goes even beyond Java by supporting multiple inheritance, operator overloading, meta-programming, etc.\n",
    "\n",
    "**Functional** - Functions are first-class objects that can be created, manipulated and passed around just like any other object\n",
    "\n",
    "**Memory management** - Python runtime takes care of correctly allocating and freeing up memory.\n",
    "\n",
    "Reference:\n",
    "http://antrix.net/static/pages/python-for-java/online/\n",
    "http://stackoverflow.com/questions/11328920/is-python-strongly-typed"
   ]
  },
  {
   "cell_type": "markdown",
   "metadata": {},
   "source": [
    "## Comparison in Hello World \n",
    "\n",
    "### Java\n",
    "```java\n",
    "public class HelloWorld {\n",
    "\n",
    "    public static void main(String[] args) {\n",
    "        // Prints \"Hello, World\" to the terminal window.\n",
    "        System.out.println(\"Hello, World\");\n",
    "    }\n",
    "}\n",
    "```\n",
    "\n",
    "### Python\n",
    "```Python\n",
    "print (\"Hello, World\")\n",
    "```"
   ]
  },
  {
   "cell_type": "code",
   "execution_count": null,
   "metadata": {
    "collapsed": false
   },
   "outputs": [],
   "source": [
    "print (\"Hello, World\")"
   ]
  },
  {
   "cell_type": "markdown",
   "metadata": {},
   "source": [
    "## A Python Program\n",
    "\n",
    "The script defines a single function, the approximate_size() function, which takes an exact file size in bytes and calculates a “pretty” (but approximate) size.\n",
    "\n",
    "Try to run the code block by selecting the \"Cell\" from the top menu, then click \"Run\". The keyboard shortcut is `Ctrl+Enter`.\n",
    "\n",
    "http://www.diveintopython3.net/your-first-python-program.html"
   ]
  },
  {
   "cell_type": "code",
   "execution_count": null,
   "metadata": {
    "collapsed": false
   },
   "outputs": [],
   "source": [
    "SUFFIXES = {1000: ['KB', 'MB', 'GB', 'TB', 'PB', 'EB', 'ZB', 'YB'],\n",
    "            1024: ['KiB', 'MiB', 'GiB', 'TiB', 'PiB', 'EiB', 'ZiB', 'YiB']}\n",
    "\n",
    "def approximate_size(size, a_kilobyte_is_1024_bytes=True):\n",
    "    '''Convert a file size to human-readable form.\n",
    "\n",
    "    Keyword arguments:\n",
    "    size -- file size in bytes\n",
    "    a_kilobyte_is_1024_bytes -- if True (default), use multiples of 1024\n",
    "                                if False, use multiples of 1000\n",
    "\n",
    "    Returns: string\n",
    "\n",
    "    '''\n",
    "    if size < 0:\n",
    "        raise ValueError('number must be non-negative')\n",
    "\n",
    "    multiple = 1024 if a_kilobyte_is_1024_bytes else 1000\n",
    "    for suffix in SUFFIXES[multiple]:\n",
    "        size /= multiple\n",
    "        if size < multiple:\n",
    "            return '{0:.1f} {1}'.format(size, suffix)\n",
    "\n",
    "    raise ValueError('number too large')\n",
    "   \n",
    "'''\n",
    "When the Python interpreter reads a source file, it executes all of the code found in it.\n",
    "Before executing the code, it will define a few special variables.\n",
    "For example, if the python interpreter is running that module (the source file) as the main program,\n",
    "it sets the special __name__ variable to have a value \"__main__\".\n",
    "If this file is being imported from another module, __name__ will be set to the module's name.\n",
    "http://stackoverflow.com/questions/419163/what-does-if-name-main-do\n",
    "'''\n",
    "if __name__ == '__main__':\n",
    "    print(approximate_size(1000000000000, False))\n",
    "    print(approximate_size(1000000000000))\n"
   ]
  },
  {
   "cell_type": "markdown",
   "metadata": {},
   "source": [
    "## List and Dictionary\n",
    "\n",
    "**List** is the most versatile datatype available in Python which can be written as a list of comma-separated values (items) between square brackets. Important thing about a list is that items in a list need not be of the same type.\n",
    "\n",
    "### Create a list\n",
    "Types can be mixed types."
   ]
  },
  {
   "cell_type": "code",
   "execution_count": null,
   "metadata": {
    "collapsed": false
   },
   "outputs": [],
   "source": [
    "list1 = ['physics', 'chemistry', 1997, 2000]\n",
    "list2 = [1, 2, 3, 4, 5 ]\n",
    "list3 = [\"a\", \"b\", \"c\", \"d\"]\n",
    "\n",
    "list1[1]"
   ]
  },
  {
   "cell_type": "markdown",
   "metadata": {},
   "source": [
    "### Accessing Values in Lists\n",
    "\n",
    "To access values in lists, use the square brackets for slicing along with the index or indices to obtain value available at that index"
   ]
  },
  {
   "cell_type": "code",
   "execution_count": null,
   "metadata": {
    "collapsed": false
   },
   "outputs": [],
   "source": [
    "print (\"list1[0]: \", list1[0])\n",
    "print (\"list2[1:5]: \", list2[1:5])"
   ]
  },
  {
   "cell_type": "markdown",
   "metadata": {},
   "source": [
    "### Updating Lists"
   ]
  },
  {
   "cell_type": "code",
   "execution_count": null,
   "metadata": {
    "collapsed": false
   },
   "outputs": [],
   "source": [
    "list = ['physics', 'chemistry', 1997, 2000];\n",
    "\n",
    "print (\"Value available at index 2 : \")\n",
    "print (list[2])\n",
    "\n",
    "list[2] = 2001;\n",
    "print (\"New value available at index 2 : \")\n",
    "print (list[2])\n",
    "\n",
    "list.append(2016)\n",
    "print (\"New list : \")\n",
    "print (list)\n",
    "\n",
    "list.append([1,2,3])\n",
    "print (list)\n",
    "\n",
    "list.extend([1,2,3])\n",
    "print (list)"
   ]
  },
  {
   "cell_type": "markdown",
   "metadata": {},
   "source": [
    "### Delete List Elements"
   ]
  },
  {
   "cell_type": "code",
   "execution_count": null,
   "metadata": {
    "collapsed": false
   },
   "outputs": [],
   "source": [
    "print (list1)\n",
    "del list1[2];\n",
    "print (\"After deleting value at index 2 : \")\n",
    "print (list1)"
   ]
  },
  {
   "cell_type": "markdown",
   "metadata": {},
   "source": [
    "### Basic List Operations"
   ]
  },
  {
   "cell_type": "code",
   "execution_count": null,
   "metadata": {
    "collapsed": false
   },
   "outputs": [],
   "source": [
    "# get length of a list\n",
    "len(list1)"
   ]
  },
  {
   "cell_type": "code",
   "execution_count": null,
   "metadata": {
    "collapsed": false
   },
   "outputs": [],
   "source": [
    "# Concat 2 lists\n",
    "list1 + list2"
   ]
  },
  {
   "cell_type": "code",
   "execution_count": null,
   "metadata": {
    "collapsed": false
   },
   "outputs": [],
   "source": [
    "# repeat\n",
    "['Hi!'] * 4"
   ]
  },
  {
   "cell_type": "code",
   "execution_count": null,
   "metadata": {
    "collapsed": false
   },
   "outputs": [],
   "source": [
    "# check if a value exists in a list\n",
    "3 in [1, 2, 3]"
   ]
  },
  {
   "cell_type": "code",
   "execution_count": null,
   "metadata": {
    "collapsed": false
   },
   "outputs": [],
   "source": [
    "# iterate a list\n",
    "for x in [1, 2, 3]: \n",
    "    print (x)"
   ]
  },
  {
   "cell_type": "code",
   "execution_count": null,
   "metadata": {
    "collapsed": false
   },
   "outputs": [],
   "source": [
    "list2 = [4, 6, 2, 8, 1]\n",
    "print (list2)\n",
    "\n",
    "list2.reverse()\n",
    "print (list2)\n",
    "\n",
    "list2.sort()\n",
    "print (list2)"
   ]
  },
  {
   "cell_type": "markdown",
   "metadata": {},
   "source": [
    "**Dictionary** is similar to HashMap in Java, used to store key-value pairs.\n",
    "\n",
    "```Python\n",
    "SUFFIXES = {1000: ['KB', 'MB', 'GB', 'TB', 'PB', 'EB', 'ZB', 'YB'],\n",
    "            1024: ['KiB', 'MiB', 'GiB', 'TiB', 'PiB', 'EiB', 'ZiB', 'YiB']}\n",
    "```\n",
    "\n",
    "Any type can be used as key and value."
   ]
  },
  {
   "cell_type": "code",
   "execution_count": null,
   "metadata": {
    "collapsed": false
   },
   "outputs": [],
   "source": [
    "SUFFIXES = {1000: ['KB', 'MB', 'GB', 'TB', 'PB', 'EB', 'ZB', 'YB'],\n",
    "            1024: ['KiB', 'MiB', 'GiB', 'TiB', 'PiB', 'EiB', 'ZiB', 'YiB']}\n",
    "print (SUFFIXES[1000])"
   ]
  },
  {
   "cell_type": "code",
   "execution_count": null,
   "metadata": {
    "collapsed": false
   },
   "outputs": [],
   "source": [
    "# String as key and list as value\n",
    "SUFFIXES[\"size\"] = ['big', 'medium', 'small']\n",
    "print (SUFFIXES[\"size\"])\n",
    "print (SUFFIXES)"
   ]
  },
  {
   "cell_type": "code",
   "execution_count": null,
   "metadata": {
    "collapsed": false
   },
   "outputs": [],
   "source": [
    "# A dictionary as value\n",
    "newDict = {}\n",
    "newDict['dict'] = SUFFIXES\n",
    "print (newDict)"
   ]
  },
  {
   "cell_type": "markdown",
   "metadata": {},
   "source": [
    "## Declaring Functions\n",
    "\n",
    "Python has functions like most other languages, but it does not have separate header files like c++ or interface/implementation sections like Pascal. When you need a function, just declare it, like this:\n",
    "\n",
    "```Python\n",
    "def approximate_size(size, a_kilobyte_is_1024_bytes=True):\n",
    "```\n",
    "* The keyword `def` starts the function declaration, followed by the function name, followed by the arguments in parentheses. Multiple arguments are separated with commas.\n",
    "\n",
    "* Python functions do not specify the datatype of their return value; they don’t even specify whether or not they return a value. (a function returns a value or `null`).\n",
    "\n",
    "* Types of arguments are not neccesary either, based on what value you assign, Python keeps track of the datatype internally.\n",
    "\n",
    "* Python allows function arguments to have default values if the values are missing in the function call."
   ]
  },
  {
   "cell_type": "markdown",
   "metadata": {},
   "source": [
    "### Try to execute the following function calls"
   ]
  },
  {
   "cell_type": "code",
   "execution_count": null,
   "metadata": {
    "collapsed": false
   },
   "outputs": [],
   "source": [
    "approximate_size(4000, a_kilobyte_is_1024_bytes=False)\n",
    "\n",
    "approximate_size(size=4000, a_kilobyte_is_1024_bytes=False)\n",
    "\n",
    "approximate_size(a_kilobyte_is_1024_bytes=False, size=4000)"
   ]
  },
  {
   "cell_type": "markdown",
   "metadata": {},
   "source": [
    "**You should expect some errors from the next two statements**"
   ]
  },
  {
   "cell_type": "code",
   "execution_count": null,
   "metadata": {
    "collapsed": false
   },
   "outputs": [],
   "source": [
    "approximate_size(a_kilobyte_is_1024_bytes=False, 4000) "
   ]
  },
  {
   "cell_type": "code",
   "execution_count": null,
   "metadata": {
    "collapsed": false
   },
   "outputs": [],
   "source": [
    "approximate_size(size=4000, False) "
   ]
  },
  {
   "cell_type": "markdown",
   "metadata": {},
   "source": [
    "## Writing Readable Code\n",
    "\n",
    "### Documentation Strings\n",
    "\n",
    "You can document a Python function by giving it a documentation string (`docstring` for short). In this program, the `approximate_size()` function has a `docstring`:\n",
    "\n",
    "```Python\n",
    "def approximate_size(size, a_kilobyte_is_1024_bytes=True):\n",
    "\n",
    "    '''Convert a file size to human-readable form.\n",
    "\n",
    "    Keyword arguments:\n",
    "    size -- file size in bytes\n",
    "    a_kilobyte_is_1024_bytes -- if True (default), use multiples of 1024\n",
    "                                if False, use multiples of 1000\n",
    "\n",
    "    Returns: string\n",
    "\n",
    "    '''\n",
    "```\n",
    "\n",
    "* the docstring is available at runtime as an attribute of the function.\n",
    "* Many IDE use the `docstring` to provide context-sensitive documentation, so that when you type a function name, its docstring appears as a tooltip."
   ]
  },
  {
   "cell_type": "code",
   "execution_count": null,
   "metadata": {
    "collapsed": false
   },
   "outputs": [],
   "source": [
    "print(approximate_size.__doc__) "
   ]
  },
  {
   "cell_type": "markdown",
   "metadata": {},
   "source": [
    "## Everything Is An Object#\n",
    "\n",
    "Everything in Python is an object, and everything can have attributes and methods. All functions have a built-in attribute `__doc__`, which returns the docstring defined in the function’s source code. The `sys` module is an object which has (among other things) an attribute called path. And so forth.\n",
    "\n",
    "Different programming languages define “object” in differently. In some, it means that all objects must have attributes and methods; in others, it means that all objects are subclassable. In Python, the definition is looser. Some objects have neither attributes nor methods, but they could. Not all objects are subclassable. But everything is an object in the sense that it can be assigned to a variable or passed as an argument to a function.\n",
    "\n",
    "In Python, functions are first-class objects. You can pass a function as an argument to another function. Modules are first-class objects. You can pass an entire module as an argument to a function. Classes are first-class objects, and individual instances of a class are also first-class objects.\n",
    "\n",
    "This is important, so I’m going to repeat it in case you missed it the first few times: everything in Python is an object. Strings are objects. Lists are objects. Functions are objects. Classes are objects. Class instances are objects. Even modules are objects."
   ]
  },
  {
   "cell_type": "code",
   "execution_count": null,
   "metadata": {
    "collapsed": false
   },
   "outputs": [],
   "source": [
    "import os\n",
    "\n",
    "os.__doc__"
   ]
  },
  {
   "cell_type": "code",
   "execution_count": null,
   "metadata": {
    "collapsed": false
   },
   "outputs": [],
   "source": [
    "\"String is an object\".__doc__"
   ]
  },
  {
   "cell_type": "markdown",
   "metadata": {},
   "source": [
    "## Copy objects\n",
    "\n",
    "To achieve high performance, assignments in Python usually do not copy the underlaying objects. This is important for example when objects are passed between functions, to avoid an excessive amount of memory copying when it is not necessary (**pass by reference**)."
   ]
  },
  {
   "cell_type": "code",
   "execution_count": null,
   "metadata": {
    "collapsed": false
   },
   "outputs": [],
   "source": [
    "a = [10, 11, 12, 13, 14]\n",
    "b = a\n",
    "print (\"a =\", a)\n",
    "print (\"b =\", b)\n",
    "b[0] = 20\n",
    "print (\"After updating b:\")\n",
    "print (\"a =\", a)\n",
    "print (\"b =\", b)\n",
    "a[1] = 30\n",
    "print (\"After updating a:\")\n",
    "print (\"a =\", a)\n",
    "print (\"b =\", b)"
   ]
  },
  {
   "cell_type": "markdown",
   "metadata": {},
   "source": [
    "If we want to avoid this behavior, so that when we get a new completely independent object B copied from A, then we need to do a so-called \"deep copy\" using the function copy:"
   ]
  },
  {
   "cell_type": "code",
   "execution_count": null,
   "metadata": {
    "collapsed": false
   },
   "outputs": [],
   "source": [
    "import copy\n",
    "a = [10, 11, 12, 13, 14]\n",
    "b = copy.copy(a)\n",
    "print (\"a =\", a)\n",
    "print (\"b =\", b)\n",
    "b[0] = 20\n",
    "print (\"After updating b:\")\n",
    "print (\"a =\", a)\n",
    "print (\"b =\", b)\n",
    "a[1] = 30\n",
    "print (\"After updating a:\")\n",
    "print (\"a =\", a)\n",
    "print (\"b =\", b)"
   ]
  },
  {
   "cell_type": "markdown",
   "metadata": {},
   "source": [
    "## Indenting Code\n",
    "\n",
    "Python functions have no explicit `begin` or `end`, and no curly braces to mark where the function code starts and stops. The only delimiter is a colon (:) and the indentation of the code itself.\n",
    "\n",
    "```Python\n",
    "def approximate_size(size, a_kilobyte_is_1024_bytes=True): \n",
    "    if size < 0:                                           \n",
    "        raise ValueError('number must be non-negative')    \n",
    "                                                           \n",
    "    multiple = 1024 if a_kilobyte_is_1024_bytes else 1000\n",
    "    for suffix in SUFFIXES[multiple]:                     \n",
    "        size /= multiple\n",
    "        if size < multiple:\n",
    "            return '{0:.1f} {1}'.format(size, suffix)\n",
    "\n",
    "    raise ValueError('number too large')\n",
    "```\n",
    "\n",
    "Since indentation is a language requirement and not a matter of style. This makes it easier to read and understand other people’s Python code."
   ]
  },
  {
   "cell_type": "code",
   "execution_count": null,
   "metadata": {
    "collapsed": false
   },
   "outputs": [],
   "source": [
    "def approximate_size(size, a_kilobyte_is_1024_bytes=True): \n",
    "    if size < 0:                                           \n",
    "        raise ValueError('number must be non-negative')   \n",
    "\n",
    "    multiple = 1024 if a_kilobyte_is_1024_bytes else 1000\n",
    "    for suffix in SUFFIXES[multiple]:                     \n",
    "        size /= multiple\n",
    "        if size < multiple:\n",
    "            return '{0:.1f} {1}'.format(size, suffix)\n",
    "\n",
    "    raise ValueError('number too large')\n",
    "    \n",
    "approximate_size(4000, a_kilobyte_is_1024_bytes=False)"
   ]
  }
 ],
 "metadata": {
  "kernelspec": {
   "display_name": "Apache Toree - PySpark",
   "language": "python",
   "name": "apache_toree_pyspark"
  },
  "language_info": {
   "codemirror_mode": {
    "name": "ipython",
    "version": 3
   },
   "file_extension": ".py",
   "mimetype": "text/x-python",
   "name": "python",
   "nbconvert_exporter": "python",
   "pygments_lexer": "ipython3",
   "version": "3.5.1"
  }
 },
 "nbformat": 4,
 "nbformat_minor": 0
}
