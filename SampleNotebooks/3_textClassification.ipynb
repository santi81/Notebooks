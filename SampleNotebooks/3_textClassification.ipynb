{
 "cells": [
  {
   "cell_type": "markdown",
   "metadata": {},
   "source": [
    "# Import Standard Tools Pandas, Scikit, Numpy, Scipy, Matplotlib"
   ]
  },
  {
   "cell_type": "code",
   "execution_count": 1,
   "metadata": {
    "collapsed": false
   },
   "outputs": [],
   "source": [
    "#NOTES\n",
    "#Data Analysis PANDAS\n",
    "#Machine Learning SCIKIT LEARN\n",
    "#VIZUALIZATION Matplotlib, Seaborn, Pandas\n",
    "#Math, Linear Algebra, Matrix - Numpy and Scipy\n",
    "\n",
    "\n",
    "import pandas as pd\n",
    "import sklearn as sk\n",
    "import numpy as np\n",
    "import scipy as sc\n",
    "import nltk\n",
    "import matplotlib as mpl\n",
    "import matplotlib.pyplot as plt\n",
    "np.random.seed(sum(map(ord, \"aesthetics\")))\n",
    "\n",
    "# Set some pandas options for controlling output\n",
    "pd.set_option('display.notebook_repr_html', False)\n",
    "pd.set_option('display.max_columns', 20)\n",
    "pd.set_option('display.max_rows', 20)\n",
    "plt.style.use('ggplot')\n",
    "%matplotlib inline\n"
   ]
  },
  {
   "cell_type": "markdown",
   "metadata": {},
   "source": [
    "# Feature Extraction from Text: Bag of Words"
   ]
  },
  {
   "cell_type": "code",
   "execution_count": 2,
   "metadata": {
    "collapsed": true
   },
   "outputs": [],
   "source": [
    "#A collection of text documents is called a corpus. \n",
    "#A text document can be a short string, tweet or a large document. \n",
    "\n",
    "\n",
    "#List of 2 String Documents \n",
    "#The task is to respresent the documents as a Vector (List or Array) of Numericals\n",
    "corpus = [\n",
    "'UNC played Duke in basketball',\n",
    "'Duke lost the basketball game'\n",
    "]"
   ]
  },
  {
   "cell_type": "code",
   "execution_count": 3,
   "metadata": {
    "collapsed": false
   },
   "outputs": [
    {
     "name": "stdout",
     "output_type": "stream",
     "text": [
      "[[1 1 0 1 0 1 0 1]\n",
      " [1 1 1 0 1 0 1 0]]\n",
      "{'basketball': 0, 'played': 5, 'lost': 4, 'duke': 1, 'in': 3, 'game': 2, 'the': 6, 'unc': 7}\n"
     ]
    },
    {
     "data": {
      "text/plain": [
       "'\\n1. Given a corpus, generate the vocabulary of words that are in the corpus\\n2. Given a document, create a vector of 0 and 1 depending on whether a vocabulary\\nword is present in the document\\n3. Thus, the feature vector size is the same as the size of the vocabulary\\n\\nIssues:\\n4. Vocabulary size can be large (100s of thousands or more)\\n5. Some ways to reduce the vocabulary sizes are :\\n\\n  a. Some Prefiltering (throw some words) Stopwords, Stemming, Lemmazition\\n  b. Choosing only top-k important words (features) Feature Selection\\n  c. Feature hashing\\n  d. Dimensionality Reduction using Matrix Factorization \\n     (SVD is very common in Text Mining)\\n\\n'"
      ]
     },
     "execution_count": 3,
     "metadata": {},
     "output_type": "execute_result"
    }
   ],
   "source": [
    "#CountVectorizer is a class for feature extraction from text data\n",
    "\n",
    "from sklearn.feature_extraction.text import CountVectorizer\n",
    "vectorizer = CountVectorizer()\n",
    "\n",
    "#todense converts it into a Numpy dense matrix \n",
    "print (vectorizer.fit_transform(corpus).todense())\n",
    "print (vectorizer.vocabulary_)\n",
    "\n",
    "'''\n",
    "1. Given a corpus, generate the vocabulary of words that are in the corpus\n",
    "2. Given a document, create a vector of 0 and 1 depending on whether a vocabulary\n",
    "word is present in the document\n",
    "3. Thus, the feature vector size is the same as the size of the vocabulary\n",
    "\n",
    "Issues:\n",
    "4. Vocabulary size can be large (100s of thousands or more)\n",
    "5. Some ways to reduce the vocabulary sizes are :\n",
    "\n",
    "  a. Some Prefiltering (throw some words) Stopwords, Stemming, Lemmazition\n",
    "  b. Choosing only top-k important words (features) Feature Selection\n",
    "  c. Feature hashing\n",
    "  d. Dimensionality Reduction using Matrix Factorization \n",
    "     (SVD is very common in Text Mining)\n",
    "\n",
    "'''"
   ]
  },
  {
   "cell_type": "code",
   "execution_count": 4,
   "metadata": {
    "collapsed": false
   },
   "outputs": [
    {
     "name": "stdout",
     "output_type": "stream",
     "text": [
      "[[0 1 1 0 1 0 1 0 0 1]\n",
      " [0 1 1 1 0 1 0 0 1 0]\n",
      " [1 0 0 0 0 0 0 1 0 0]]\n",
      "{'basketball': 1, 'played': 6, 'lost': 5, 'ate': 0, 'duke': 2, 'in': 4, 'game': 3, 'sandwich': 7, 'the': 8, 'unc': 9}\n",
      "10\n"
     ]
    }
   ],
   "source": [
    "#Another example by adding a third document, different from the first two in the\n",
    "#words that it contains \n",
    "\n",
    "corpus = [\n",
    "'UNC played Duke in basketball',\n",
    "'Duke lost the basketball game',\n",
    "'I ate a sandwich'\n",
    "]\n",
    "\n",
    "print (vectorizer.fit_transform(corpus).todense())\n",
    "print (vectorizer.vocabulary_)\n",
    "print(len(vectorizer.vocabulary_))"
   ]
  },
  {
   "cell_type": "markdown",
   "metadata": {},
   "source": [
    "# Distance between Text Documents, Measurement of Similarity"
   ]
  },
  {
   "cell_type": "code",
   "execution_count": 5,
   "metadata": {
    "collapsed": false
   },
   "outputs": [
    {
     "name": "stdout",
     "output_type": "stream",
     "text": [
      "[[0 1 1 0 1 0 1 0 0 1]\n",
      " [0 1 1 1 0 1 0 0 1 0]\n",
      " [1 0 0 0 0 0 0 1 0 0]]\n",
      "Distance between 1st and 2nd documents: [[ 2.44948974]]\n",
      "Distance between 1st and 3rd documents: [[ 2.64575131]]\n",
      "Distance between 2nd and 3rd documents: [[ 2.64575131]]\n"
     ]
    }
   ],
   "source": [
    "'''\n",
    "Once u have a feature vector, there are many ways in which u can\n",
    "compute how similar/dissimilar they are. Another way to view it\n",
    "is to compute distance between feature vectors. The larger the distance,\n",
    "the less similar two vectors are. \n",
    "\n",
    "Example of such measures are:\n",
    "Euclidean Distance\n",
    "Manhattan Distance\n",
    "Cosine Similarity for Feature Vectors \n",
    "Jaccard Similarity for Sets of Data\n",
    "\n",
    "Similarity between two document feature vectors can tell you\n",
    "how similar they are. This can be used for document clustering\n",
    "or classification.\n",
    "'''\n",
    "\n",
    "from sklearn.metrics.pairwise import euclidean_distances\n",
    "\n",
    "array_ = vectorizer.fit_transform(corpus).todense()\n",
    "print(array_)\n",
    "\n",
    "print ('Distance between 1st and 2nd documents:'\n",
    "       , euclidean_distances(array_[0], array_[1]))\n",
    "\n",
    "print ('Distance between 1st and 3rd documents:'\n",
    "       , euclidean_distances(array_[0], array_[2]))\n",
    "\n",
    "print ('Distance between 2nd and 3rd documents:'\n",
    "       , euclidean_distances(array_[1], array_[2]))"
   ]
  },
  {
   "cell_type": "code",
   "execution_count": 6,
   "metadata": {
    "collapsed": false
   },
   "outputs": [
    {
     "name": "stdout",
     "output_type": "stream",
     "text": [
      "CosSim between 1st and 2nd documents: [[ 0.4]]\n",
      "CosSim between 2nd and 3rd documents: [[ 0.]]\n",
      "CosSim between 1st and 3rd documents: [[ 0.]]\n"
     ]
    }
   ],
   "source": [
    "from sklearn.metrics.pairwise import cosine_similarity\n",
    "\n",
    "print ('CosSim between 1st and 2nd documents:'\n",
    "       , cosine_similarity(array_[0], array_[1]))\n",
    "\n",
    "print ('CosSim between 2nd and 3rd documents:'\n",
    "       , cosine_similarity(array_[1], array_[2]))\n",
    "\n",
    "print ('CosSim between 1st and 3rd documents:'\n",
    "       , cosine_similarity(array_[0], array_[2]))"
   ]
  },
  {
   "cell_type": "markdown",
   "metadata": {},
   "source": [
    "# Text Preprocessing"
   ]
  },
  {
   "cell_type": "code",
   "execution_count": 7,
   "metadata": {
    "collapsed": false
   },
   "outputs": [
    {
     "name": "stdout",
     "output_type": "stream",
     "text": [
      "[[0 1 1 0 0 1 0 1]\n",
      " [0 1 1 1 1 0 0 0]\n",
      " [1 0 0 0 0 0 1 0]]\n",
      "{'basketball': 1, 'played': 5, 'lost': 4, 'ate': 0, 'duke': 2, 'game': 3, 'sandwich': 6, 'unc': 7}\n",
      "8\n"
     ]
    }
   ],
   "source": [
    "#STOPWORD FILTERING\n",
    "\n",
    "'''\n",
    "Stopwords are words that are common and do not add any value\n",
    "to document semantics. We can filter these before doing the\n",
    "feature generation.\n",
    "\n",
    "Example of such words are: a, at, an, the, in , or, etc.\n",
    "Many libraries have stopwords in various languages.\n",
    "\n",
    "As a developer, you can always add some words to the stopword list\n",
    "if you think you wanna filter them out. So, stopwords lists can \n",
    "be extended.\n",
    "'''\n",
    "\n",
    "from sklearn.feature_extraction.text import CountVectorizer\n",
    "corpus = [\n",
    "'UNC played Duke in basketball',\n",
    "'Duke lost the basketball game',\n",
    "'I ate a sandwich'\n",
    "]\n",
    "vectorizer = CountVectorizer(stop_words='english')\n",
    "print (vectorizer.fit_transform(corpus).todense())\n",
    "print (vectorizer.vocabulary_)\n",
    "print(len(vectorizer.vocabulary_))\n",
    "\n",
    "#the and in are filtered after Stopword filtering stage\n",
    "#countvectorizer by default throws words like \"I\" , \"a\""
   ]
  },
  {
   "cell_type": "code",
   "execution_count": 8,
   "metadata": {
    "collapsed": false
   },
   "outputs": [
    {
     "name": "stdout",
     "output_type": "stream",
     "text": [
      "[[1 0 0 1]\n",
      " [0 1 1 0]]\n",
      "{'sandwiches': 3, 'ate': 0, 'sandwich': 2, 'eaten': 1}\n"
     ]
    }
   ],
   "source": [
    "#Stemming and lemmatization\n",
    "'''\n",
    "After stopword filtering, we can do some more steps. Most common\n",
    "are Stemming and maybe, Lemmatization. \n",
    "\n",
    "Stemming : Input is a word and output is the basic form \n",
    "e.g. sandwiches and sandwich both output sandwich. we dont want\n",
    "many variants of same word in the vocabulary. [run, Run, ran, Ran, running] should\n",
    "all boil down to run.\n",
    "\n",
    "Example of stemmers :  Porter stemmer, Lancaster Stemmer, Snowball Stemmer \n",
    "\n",
    "Knowledge of Regular Expressions and Text Processing Libraries can be useful.\n",
    "NLTK is one in Python. OPENNLP, STANFORDNLP, TIKA, etc. There are many text \n",
    "processing libraries. Quite a few in Java are available.\n",
    "\n",
    "Lemmatization usually refers to doing things properly with the use of a\n",
    "vocabulary and morphological analysis of words, normally aiming to remove inflectional\n",
    "endings only and to return the base or dictionary form of a word, which is known as the lemma \n",
    "\n",
    "Lemmatisation (or lemmatization) in linguistics is the process of grouping together the different \n",
    "inflected forms of a word so they can be analysed as a single item.\n",
    "\n",
    "http://textminingonline.com/dive-into-nltk-part-iv-stemming-and-lemmatization\n",
    "'''\n",
    "\n",
    "#without stemming and lemmatization\n",
    "from sklearn.feature_extraction.text import CountVectorizer\n",
    "corpus = [\n",
    "'He ate the sandwiches',\n",
    "'Every sandwich was eaten by him'\n",
    "]\n",
    "vectorizer = CountVectorizer(binary=True, stop_words='english')\n",
    "print (vectorizer.fit_transform(corpus).todense())\n",
    "print ( vectorizer.vocabulary_)\n"
   ]
  },
  {
   "cell_type": "code",
   "execution_count": 9,
   "metadata": {
    "collapsed": false
   },
   "outputs": [
    {
     "name": "stdout",
     "output_type": "stream",
     "text": [
      "sandwich\n",
      "sandwich\n",
      "presum\n",
      "owe\n",
      "abacus\n"
     ]
    }
   ],
   "source": [
    "# Example of stemming \n",
    "from nltk.stem.porter import PorterStemmer\n",
    "porter_stemmer = PorterStemmer()\n",
    "\n",
    "\n",
    "print(porter_stemmer.stem('sandwiches'))\n",
    "print(porter_stemmer.stem('sandwich'))\n",
    "print(porter_stemmer.stem('presumably'))\n",
    "print(porter_stemmer.stem('owed'))\n",
    "print(porter_stemmer.stem('abacuses'))"
   ]
  },
  {
   "cell_type": "code",
   "execution_count": 10,
   "metadata": {
    "collapsed": false,
    "scrolled": true
   },
   "outputs": [
    {
     "name": "stdout",
     "output_type": "stream",
     "text": [
      "sandwich\n",
      "dog\n",
      "abacus\n",
      "is\n",
      "be\n",
      "be\n"
     ]
    },
    {
     "data": {
      "text/plain": [
       "'\\nThe NLTK Lemmatization method is based on WordNet’s built-in morphy function.\\nHere is the introduction from WordNet official website:\\n\\n\\nWordNet® is a large lexical database of English. Nouns, verbs, \\nadjectives and adverbs are grouped into sets of cognitive synonyms\\n(synsets), each expressing a distinct concept. Synsets are interlinked \\nby means of conceptual-semantic and lexical relations. The \\nresulting network of meaningfully related words and concepts \\ncan be navigated with the browser. WordNet is also freely and \\npublicly available for download. WordNet’s structure makes it a \\nuseful tool for computational linguistics and natural language processing.\\n\\nWordNet superficially resembles a thesaurus, in that it \\ngroups words together based on their meanings. However, \\nthere are some important distinctions. First, WordNet interlinks \\nnot just word forms—strings of letters—but specific senses of\\nwords. As a result, words that are found in close proximity \\nto one another in the network are semantically disambiguated.\\nSecond, WordNet labels the semantic relations among words, \\nwhereas the groupings of words in a thesaurus does not follow\\nany explicit pattern other than meaning similarity\\n\\n\\nThe goal of both stemming and lemmatization is to reduce inflectional \\nforms and sometimes derivationally related forms of a word to a common \\nbase form.\\n\\nHowever, the two techniques differ in their flavor. Stemming usually \\nrefers to a crude heuristic process that chops off the ends of \\nwords in the hope of achieving this goal correctly most of the \\ntime, and often includes the removal of derivational affixes. \\nLemmatization usually refers to doing things properly with the \\nuse of a vocabulary and morphological analysis of words, \\nnormally aiming to remove inflectional endings only and to\\nreturn the base or dictionary form of a word, which is known as the lemma.\\n'"
      ]
     },
     "execution_count": 10,
     "metadata": {},
     "output_type": "execute_result"
    }
   ],
   "source": [
    "from nltk.stem import WordNetLemmatizer\n",
    "\n",
    "\n",
    "wordnet_lemmatizer = WordNetLemmatizer()\n",
    "\n",
    "print(wordnet_lemmatizer.lemmatize('sandwiches'))\n",
    "print(wordnet_lemmatizer.lemmatize('dogs'))\n",
    "print(wordnet_lemmatizer.lemmatize('abaci'))\n",
    "\n",
    "print(wordnet_lemmatizer.lemmatize('is'))\n",
    "print(wordnet_lemmatizer.lemmatize('is', pos='v'))\n",
    "\n",
    "print(wordnet_lemmatizer.lemmatize('are', pos='v'))\n",
    "\n",
    "\n",
    "'''\n",
    "The NLTK Lemmatization method is based on WordNet’s built-in morphy function.\n",
    "Here is the introduction from WordNet official website:\n",
    "\n",
    "\n",
    "WordNet® is a large lexical database of English. Nouns, verbs, \n",
    "adjectives and adverbs are grouped into sets of cognitive synonyms\n",
    "(synsets), each expressing a distinct concept. Synsets are interlinked \n",
    "by means of conceptual-semantic and lexical relations. The \n",
    "resulting network of meaningfully related words and concepts \n",
    "can be navigated with the browser. WordNet is also freely and \n",
    "publicly available for download. WordNet’s structure makes it a \n",
    "useful tool for computational linguistics and natural language processing.\n",
    "\n",
    "WordNet superficially resembles a thesaurus, in that it \n",
    "groups words together based on their meanings. However, \n",
    "there are some important distinctions. First, WordNet interlinks \n",
    "not just word forms—strings of letters—but specific senses of\n",
    "words. As a result, words that are found in close proximity \n",
    "to one another in the network are semantically disambiguated.\n",
    "Second, WordNet labels the semantic relations among words, \n",
    "whereas the groupings of words in a thesaurus does not follow\n",
    "any explicit pattern other than meaning similarity\n",
    "\n",
    "\n",
    "The goal of both stemming and lemmatization is to reduce inflectional \n",
    "forms and sometimes derivationally related forms of a word to a common \n",
    "base form.\n",
    "\n",
    "However, the two techniques differ in their flavor. Stemming usually \n",
    "refers to a crude heuristic process that chops off the ends of \n",
    "words in the hope of achieving this goal correctly most of the \n",
    "time, and often includes the removal of derivational affixes. \n",
    "Lemmatization usually refers to doing things properly with the \n",
    "use of a vocabulary and morphological analysis of words, \n",
    "normally aiming to remove inflectional endings only and to\n",
    "return the base or dictionary form of a word, which is known as the lemma.\n",
    "'''"
   ]
  },
  {
   "cell_type": "code",
   "execution_count": 11,
   "metadata": {
    "collapsed": false,
    "scrolled": false
   },
   "outputs": [
    {
     "name": "stdout",
     "output_type": "stream",
     "text": [
      "gather\n",
      "POS INFO\n",
      "[[('He', 'PRP'), ('ate', 'VBD'), ('the', 'DT'), ('sandwiches', 'NNS')], [('Every', 'DT'), ('sandwich', 'NN'), ('was', 'VBD'), ('eaten', 'VBN'), ('by', 'IN'), ('him', 'PRP')]]\n",
      "After Stemming\n",
      "Stemmed: [['He', 'ate', 'the', 'sandwich'], ['Everi', 'sandwich', 'wa', 'eaten', 'by', 'him']]\n",
      "After Lemmatization\n",
      "Lemmatized: [['He', 'eat', 'the', 'sandwich'], ['Every', 'sandwich', 'be', 'eat', 'by', 'him']]\n"
     ]
    }
   ],
   "source": [
    "import string,re\n",
    "\n",
    "#NLTK IMPORTS \n",
    "from nltk.stem import PorterStemmer\n",
    "from nltk import word_tokenize\n",
    "from nltk.corpus import stopwords\n",
    "from nltk.stem.wordnet import WordNetLemmatizer\n",
    "from nltk import pos_tag\n",
    "\n",
    "\n",
    "\n",
    "def lemmatize(token, tag):\n",
    "    if tag[0].lower() in ['n', 'v']:\n",
    "        return lemmatizer.lemmatize(token, tag[0].lower())\n",
    "    return token\n",
    "\n",
    "\n",
    "stemmer = PorterStemmer()\n",
    "\n",
    "lemmatizer = WordNetLemmatizer()\n",
    "\n",
    "\n",
    "print (stemmer.stem('gathering'))\n",
    "\n",
    "corpus = [\n",
    "'He ate the sandwiches',\n",
    "'Every sandwich was eaten by him'\n",
    "]\n",
    "\n",
    "\n",
    "\n",
    "#Python List Comprehension\n",
    "\n",
    "tagged_corpus = [pos_tag(word_tokenize(document)) for document in corpus]\n",
    "print(\"POS INFO\")\n",
    "print(tagged_corpus)\n",
    "\n",
    "print(\"After Stemming\")\n",
    "print ('Stemmed:', [[stemmer.stem(token) for token in \n",
    "                    word_tokenize(document)] for document in corpus])\n",
    "\n",
    "print(\"After Lemmatization\")\n",
    "print ('Lemmatized:', [[lemmatize(token, tag) for token, tag in\n",
    "document] for document in tagged_corpus])\n",
    "\n",
    "#Through stemming and lemmatization, we can reduce the dimensionality of our\n",
    "#feature space.\n",
    "\n",
    "#Stemming was -> wa   , every -> every (stemming may producsing useless output)\n",
    "#Lemmatization was -> be , every -> every (lemmatization will procude meaningful words)\n"
   ]
  },
  {
   "cell_type": "code",
   "execution_count": 12,
   "metadata": {
    "collapsed": false
   },
   "outputs": [
    {
     "name": "stdout",
     "output_type": "stream",
     "text": [
      "[[2 1 2 0 0]\n",
      " [0 0 1 1 1]]\n"
     ]
    }
   ],
   "source": [
    "#Motivate TF IDF Term Freq , Inverse Doc Frequency\n",
    "\n",
    "from sklearn.feature_extraction.text import CountVectorizer\n",
    "corpus = ['The dog ate a sandwich and I ate a sandwich', 'the wizard transfigured a sandwich ']\n",
    "vectorizer = CountVectorizer(stop_words='english')\n",
    "print (vectorizer.fit_transform(corpus).todense())\n"
   ]
  },
  {
   "cell_type": "code",
   "execution_count": 13,
   "metadata": {
    "collapsed": false
   },
   "outputs": [
    {
     "name": "stdout",
     "output_type": "stream",
     "text": [
      "CountVectorizer Feat Vectors\n",
      "[[2 1 2 0 0]\n",
      " [0 0 1 1 1]]\n",
      "{'ate': 0, 'sandwich': 2, 'transfigured': 3, 'dog': 1, 'wizard': 4}\n",
      "TFIDF Feat Vectors\n",
      "[[ 0.75458397  0.37729199  0.53689271  0.          0.        ]\n",
      " [ 0.          0.          0.44943642  0.6316672   0.6316672 ]]\n",
      "{'ate': 0, 'sandwich': 2, 'transfigured': 3, 'dog': 1, 'wizard': 4}\n"
     ]
    }
   ],
   "source": [
    "from sklearn.feature_extraction.text import TfidfVectorizer\n",
    "corpus = ['The dog ate a sandwich and I ate a sandwich',\n",
    "          'The wizard transfigured a sandwich']\n",
    "\n",
    "print(\"CountVectorizer Feat Vectors\")\n",
    "vectorizer = CountVectorizer(stop_words='english')\n",
    "print (vectorizer.fit_transform(corpus).todense())\n",
    "print(vectorizer.vocabulary_)\n",
    "\n",
    "\n",
    "print(\"TFIDF Feat Vectors\")\n",
    "vectorizer = TfidfVectorizer(stop_words='english')\n",
    "print (vectorizer.fit_transform(corpus).todense())\n",
    "print(vectorizer.vocabulary_)\n",
    "\n",
    "#\n",
    "#By comparing the TF-IDF weights to the raw term frequencies, we can see that words\n",
    "#that are common to many of the documents in the corpus, such as sandwich, have\n",
    "#been penalized.\n",
    "#"
   ]
  },
  {
   "cell_type": "code",
   "execution_count": 14,
   "metadata": {
    "collapsed": false
   },
   "outputs": [
    {
     "name": "stdout",
     "output_type": "stream",
     "text": [
      "NGrams TFIDF Feat Vectors\n",
      "[[ 0.55416811  0.55416811  0.27708406  0.27708406  0.39429518  0.27708406\n",
      "   0.          0.          0.          0.        ]\n",
      " [ 0.          0.          0.          0.          0.33517574  0.\n",
      "   0.47107781  0.47107781  0.47107781  0.47107781]]\n",
      "{'dog ate': 3, 'wizard transfigured': 9, 'ate': 0, 'dog': 2, 'wizard': 8, 'transfigured': 6, 'transfigured sandwich': 7, 'ate sandwich': 1, 'sandwich ate': 5, 'sandwich': 4}\n"
     ]
    }
   ],
   "source": [
    "#N-grams\n",
    "\n",
    "print(\"NGrams TFIDF Feat Vectors\")\n",
    "\n",
    "\n",
    "vectorizer = TfidfVectorizer(stop_words='english',ngram_range=(1,2))\n",
    "print (vectorizer.fit_transform(corpus).todense())\n",
    "print(vectorizer.vocabulary_)"
   ]
  },
  {
   "cell_type": "markdown",
   "metadata": {},
   "source": [
    "# SPAM CLASSIFICATION"
   ]
  },
  {
   "cell_type": "code",
   "execution_count": 15,
   "metadata": {
    "collapsed": false
   },
   "outputs": [
    {
     "name": "stdout",
     "output_type": "stream",
     "text": [
      "5574\n"
     ]
    }
   ],
   "source": [
    "#read the spam/non-span data into a list\n",
    "messages = [line.rstrip() for line in open('/data/SMSSpamCollection')]\n",
    "print (len(messages))"
   ]
  },
  {
   "cell_type": "code",
   "execution_count": 16,
   "metadata": {
    "collapsed": false
   },
   "outputs": [
    {
     "name": "stdout",
     "output_type": "stream",
     "text": [
      "0 ham\tGo until jurong point, crazy.. Available only in bugis n great world la e buffet... Cine there got amore wat...\n",
      "1 ham\tOk lar... Joking wif u oni...\n",
      "2 spam\tFree entry in 2 a wkly comp to win FA Cup final tkts 21st May 2005. Text FA to 87121 to receive entry question(std txt rate)T&C's apply 08452810075over18's\n",
      "3 ham\tU dun say so early hor... U c already then say...\n",
      "4 ham\tNah I don't think he goes to usf, he lives around here though\n",
      "5 spam\tFreeMsg Hey there darling it's been 3 week's now and no word back! I'd like some fun you up for it still? Tb ok! XxX std chgs to send, £1.50 to rcv\n",
      "6 ham\tEven my brother is not like to speak with me. They treat me like aids patent.\n",
      "7 ham\tAs per your request 'Melle Melle (Oru Minnaminunginte Nurungu Vettam)' has been set as your callertune for all Callers. Press *9 to copy your friends Callertune\n",
      "8 spam\tWINNER!! As a valued network customer you have been selected to receivea £900 prize reward! To claim call 09061701461. Claim code KL341. Valid 12 hours only.\n",
      "9 spam\tHad your mobile 11 months or more? U R entitled to Update to the latest colour mobiles with camera for Free! Call The Mobile Update Co FREE on 08002986030\n"
     ]
    }
   ],
   "source": [
    "#Explore some lines  , Python ENUMERATE \n",
    "for message_no, message in enumerate(messages[:10]):\n",
    "    print (message_no, message)"
   ]
  },
  {
   "cell_type": "code",
   "execution_count": 17,
   "metadata": {
    "collapsed": false
   },
   "outputs": [
    {
     "data": {
      "image/png": "[encoded data removed]",
      "text/plain": [
       "<IPython.core.display.Image object>"
      ]
     },
     "execution_count": 17,
     "metadata": {},
     "output_type": "execute_result"
    }
   ],
   "source": [
    "from IPython.display import Image\n",
    "Image(filename='/presentations/ml.png')"
   ]
  },
  {
   "cell_type": "markdown",
   "metadata": {},
   "source": [
    "# Step 1: Load data, look around (EDA)"
   ]
  },
  {
   "cell_type": "code",
   "execution_count": 18,
   "metadata": {
    "collapsed": false
   },
   "outputs": [
    {
     "name": "stdout",
     "output_type": "stream",
     "text": [
      "     label                                            message\n",
      "0      ham  Go until jurong point, crazy.. Available only ...\n",
      "1      ham                      Ok lar... Joking wif u oni...\n",
      "2     spam  Free entry in 2 a wkly comp to win FA Cup fina...\n",
      "3      ham  U dun say so early hor... U c already then say...\n",
      "4      ham  Nah I don't think he goes to usf, he lives aro...\n",
      "5     spam  FreeMsg Hey there darling it's been 3 week's n...\n",
      "6      ham  Even my brother is not like to speak with me. ...\n",
      "7      ham  As per your request 'Melle Melle (Oru Minnamin...\n",
      "8     spam  WINNER!! As a valued network customer you have...\n",
      "9     spam  Had your mobile 11 months or more? U R entitle...\n",
      "...    ...                                                ...\n",
      "5564   ham  Ok lor... Sony ericsson salesman... I ask shuh...\n",
      "5565   ham                                Ard 6 like dat lor.\n",
      "5566   ham  Why don't you wait 'til at least wednesday to ...\n",
      "5567   ham                                       Huh y lei...\n",
      "5568  spam  REMINDER FROM O2: To get 2.50 pounds free call...\n",
      "5569  spam  This is the 2nd time we have tried 2 contact u...\n",
      "5570   ham               Will ü b going to esplanade fr home?\n",
      "5571   ham  Pity, * was in mood for that. So...any other s...\n",
      "5572   ham  The guy did some bitching but I acted like i'd...\n",
      "5573   ham                         Rofl. Its true to its name\n",
      "\n",
      "[5574 rows x 2 columns]\n"
     ]
    }
   ],
   "source": [
    "import csv\n",
    "messages = pd.read_csv('/data/SMSSpamCollection', sep='\\t', quoting=csv.QUOTE_NONE,names=[\"label\", \"message\"])\n",
    "print (messages)"
   ]
  },
  {
   "cell_type": "code",
   "execution_count": 19,
   "metadata": {
    "collapsed": false
   },
   "outputs": [
    {
     "data": {
      "text/plain": [
       "                                                        message\n",
       "label                                                          \n",
       "ham   count                                                4827\n",
       "      unique                                               4518\n",
       "      top                                Sorry, I'll call later\n",
       "      freq                                                   30\n",
       "spam  count                                                 747\n",
       "      unique                                                653\n",
       "      top     Please call our customer service representativ...\n",
       "      freq                                                    4"
      ]
     },
     "execution_count": 19,
     "metadata": {},
     "output_type": "execute_result"
    }
   ],
   "source": [
    "#Print spam ham stats\n",
    "messages.groupby('label').describe()"
   ]
  },
  {
   "cell_type": "code",
   "execution_count": 20,
   "metadata": {
    "collapsed": false
   },
   "outputs": [
    {
     "name": "stdout",
     "output_type": "stream",
     "text": [
      "  label                                            message  length\n",
      "0   ham  Go until jurong point, crazy.. Available only ...     111\n",
      "1   ham                      Ok lar... Joking wif u oni...      29\n",
      "2  spam  Free entry in 2 a wkly comp to win FA Cup fina...     155\n",
      "3   ham  U dun say so early hor... U c already then say...      49\n",
      "4   ham  Nah I don't think he goes to usf, he lives aro...      61\n"
     ]
    }
   ],
   "source": [
    "#add a new column to the dataframe which stores the length of the messages (number of characters)\n",
    "#can length be a useful feature ???\n",
    "# u can create new features and add them as new columns to the dataframe \n",
    "\n",
    "messages['length'] = messages['message'].map(lambda text: len(text))\n",
    "print (messages.head())"
   ]
  },
  {
   "cell_type": "code",
   "execution_count": 21,
   "metadata": {
    "collapsed": false
   },
   "outputs": [
    {
     "data": {
      "text/plain": [
       "<matplotlib.axes._subplots.AxesSubplot at 0x7f92c867f240>"
      ]
     },
     "execution_count": 21,
     "metadata": {},
     "output_type": "execute_result"
    },
    {
     "data": {
      "image/png": "[encoded data removed]",
      "text/plain": [
       "<matplotlib.figure.Figure at 0x7f92cac151d0>"
      ]
     },
     "metadata": {},
     "output_type": "display_data"
    }
   ],
   "source": [
    "messages.length.plot(bins=20, kind='hist')"
   ]
  },
  {
   "cell_type": "code",
   "execution_count": 22,
   "metadata": {
    "collapsed": false
   },
   "outputs": [
    {
     "data": {
      "text/plain": [
       "count    5574.000000\n",
       "mean       80.478292\n",
       "std        59.848302\n",
       "min         2.000000\n",
       "25%        36.000000\n",
       "50%        62.000000\n",
       "75%       122.000000\n",
       "max       910.000000\n",
       "Name: length, dtype: float64"
      ]
     },
     "execution_count": 22,
     "metadata": {},
     "output_type": "execute_result"
    }
   ],
   "source": [
    "#describe function prints a 5 number of summary\n",
    "messages.length.describe()"
   ]
  },
  {
   "cell_type": "code",
   "execution_count": 23,
   "metadata": {
    "collapsed": false
   },
   "outputs": [
    {
     "name": "stdout",
     "output_type": "stream",
     "text": [
      "[\"For me the love should start with attraction.i should feel that I need her every time around me.she should be the first thing which comes in my thoughts.I would start the day and end it with her.she should be there every time I dream.love will be then when my every breath has her name.my life should happen around her.my life will be named to her.I would cry for her.will give all my happiness and take all her sorrows.I will be ready to fight with anyone for her.I will be in love when I will be doing the craziest things for her.love will be when I don't have to proove anyone that my girl is the most beautiful lady on the whole planet.I will always be singing praises for her.love will be when I start up making chicken curry and end up makiing sambar.life will be the most beautiful then.will get every morning and thank god for the day because she is with me.I would like to say a lot..will tell later..\"]\n"
     ]
    }
   ],
   "source": [
    "#Pandas filtering \n",
    "\n",
    "print (list(messages.message[messages.length > 900]))"
   ]
  },
  {
   "cell_type": "code",
   "execution_count": 24,
   "metadata": {
    "collapsed": false
   },
   "outputs": [
    {
     "data": {
      "text/plain": [
       "array([<matplotlib.axes._subplots.AxesSubplot object at 0x7f92c8639080>,\n",
       "       <matplotlib.axes._subplots.AxesSubplot object at 0x7f92c837c630>], dtype=object)"
      ]
     },
     "execution_count": 24,
     "metadata": {},
     "output_type": "execute_result"
    },
    {
     "data": {
      "image/png": "[encoded data removed]",
      "text/plain": [
       "<matplotlib.figure.Figure at 0x7f92c97b5a20>"
      ]
     },
     "metadata": {},
     "output_type": "display_data"
    }
   ],
   "source": [
    "#plot data len distribution by label (ham or spam)\n",
    "messages.hist(column='length', by='label', bins=50)"
   ]
  },
  {
   "cell_type": "markdown",
   "metadata": {},
   "source": [
    "# Step 2: Data preprocessing"
   ]
  },
  {
   "cell_type": "code",
   "execution_count": 25,
   "metadata": {
    "collapsed": true
   },
   "outputs": [],
   "source": [
    "#take a message, split into list of tokens/words based on whitespace\n",
    "def split_into_tokens(message):\n",
    "  \n",
    "    #message = unicode(message, 'utf8')  # convert bytes into proper unicode\n",
    "    return message.split()"
   ]
  },
  {
   "cell_type": "code",
   "execution_count": 26,
   "metadata": {
    "collapsed": false
   },
   "outputs": [
    {
     "data": {
      "text/plain": [
       "0    Go until jurong point, crazy.. Available only ...\n",
       "1                        Ok lar... Joking wif u oni...\n",
       "2    Free entry in 2 a wkly comp to win FA Cup fina...\n",
       "3    U dun say so early hor... U c already then say...\n",
       "4    Nah I don't think he goes to usf, he lives aro...\n",
       "Name: message, dtype: object"
      ]
     },
     "execution_count": 26,
     "metadata": {},
     "output_type": "execute_result"
    }
   ],
   "source": [
    "messages.message.head()"
   ]
  },
  {
   "cell_type": "code",
   "execution_count": 27,
   "metadata": {
    "collapsed": false
   },
   "outputs": [
    {
     "data": {
      "text/plain": [
       "0    [Go, until, jurong, point,, crazy.., Available...\n",
       "1                 [Ok, lar..., Joking, wif, u, oni...]\n",
       "2    [Free, entry, in, 2, a, wkly, comp, to, win, F...\n",
       "3    [U, dun, say, so, early, hor..., U, c, already...\n",
       "4    [Nah, I, don't, think, he, goes, to, usf,, he,...\n",
       "Name: message, dtype: object"
      ]
     },
     "execution_count": 27,
     "metadata": {},
     "output_type": "execute_result"
    }
   ],
   "source": [
    "#split message into tokens\n",
    "messages.message.head().apply(split_into_tokens)"
   ]
  },
  {
   "cell_type": "code",
   "execution_count": 28,
   "metadata": {
    "collapsed": false
   },
   "outputs": [
    {
     "name": "stdout",
     "output_type": "stream",
     "text": [
      "Index(['label', 'message', 'length'], dtype='object')\n",
      "  label                                            message  length\n",
      "0   ham  Go until jurong point, crazy.. Available only ...     111\n",
      "1   ham                      Ok lar... Joking wif u oni...      29\n",
      "2  spam  Free entry in 2 a wkly comp to win FA Cup fina...     155\n",
      "3   ham  U dun say so early hor... U c already then say...      49\n",
      "4   ham  Nah I don't think he goes to usf, he lives aro...      61\n"
     ]
    }
   ],
   "source": [
    "#columns in the dataset\n",
    "print(messages.columns)\n",
    "print(messages.head())"
   ]
  },
  {
   "cell_type": "code",
   "execution_count": 29,
   "metadata": {
    "collapsed": false
   },
   "outputs": [
    {
     "name": "stdout",
     "output_type": "stream",
     "text": [
      "Go until jurong point, crazy.. Available only in bugis n great world la e buffet... Cine there got amore wat...\n",
      "go until jurong point crazi avail onli in bugi n great world la e buffet cine there got amor wat\n"
     ]
    }
   ],
   "source": [
    "#Lets Try  Stemming \n",
    "\n",
    "#STEMMING , No Lemmatization\n",
    "\n",
    "import string\n",
    "\n",
    "def stem_tokens(tokens,stemmer):\n",
    "    tokenLower=[token.lower() for token in tokens]\n",
    "    return [stemmer.stem(token) for token in  tokenLower]\n",
    "\n",
    "def tokenize(text):\n",
    "    stemmer=PorterStemmer()\n",
    "    text = \"\".join([ch for ch in text if ch not in string.punctuation])\n",
    "    tokens = nltk.word_tokenize(text)\n",
    "    tokensNoStop=[]\n",
    "\n",
    "    stems = stem_tokens(tokens, stemmer)\n",
    "    return \" \".join(stems)\n",
    "\n",
    "\n",
    "messages['messageStemmed'] = messages['message'].apply(tokenize)\n",
    "\n",
    "\n",
    "#Data in Raw Form\n",
    "print(messages['message'].ix[0,:])\n",
    "\n",
    "\n",
    "#Stemming and Convert to Lower Case \n",
    "print(messages['messageStemmed'].ix[0,:])"
   ]
  },
  {
   "cell_type": "markdown",
   "metadata": {},
   "source": [
    "# FIRST MODEL NAIVE BAYES"
   ]
  },
  {
   "cell_type": "code",
   "execution_count": 30,
   "metadata": {
    "collapsed": false
   },
   "outputs": [
    {
     "name": "stdout",
     "output_type": "stream",
     "text": [
      "<class 'scipy.sparse.csr.csr_matrix'>\n",
      "<class 'numpy.matrixlib.defmatrix.matrix'>\n",
      "(5574, 7970)\n",
      "[1 1 0 ..., 1 1 1]\n",
      "Index(['label', 'message', 'length', 'messageStemmed', 'labelNew'], dtype='object')\n",
      "Shapes on Feat Mat and Target Matrix is (5574, 7970) (5574,) \n",
      "The first feature vector is :\n",
      "  (0, 4036)\t1\n",
      "  (0, 5500)\t1\n",
      "  (0, 2207)\t1\n",
      "  (0, 1323)\t1\n",
      "  (0, 5167)\t1\n",
      "  (0, 1722)\t1\n",
      "  (0, 3352)\t1\n",
      "  (0, 7730)\t1\n",
      "  (0, 4180)\t1\n",
      "  (0, 1720)\t1\n",
      "  (0, 1993)\t1\n",
      "  (0, 3315)\t1\n",
      "  (0, 1138)\t1\n",
      "  (0, 7536)\t1\n"
     ]
    }
   ],
   "source": [
    "\n",
    "#Init the Feature Extracter\n",
    "count_vectorizer = CountVectorizer(stop_words='english')\n",
    "\n",
    "#Fit countvectorizer\n",
    "counts = count_vectorizer.fit_transform(messages['messageStemmed'].values)\n",
    "print(type(counts))\n",
    "#<class 'scipy.sparse.csr.csr_matrix'>\n",
    "\n",
    "\n",
    "#convert to dense matrix\n",
    "countsDense=counts.todense()\n",
    "print(type(countsDense))\n",
    "\n",
    "#convert to Pandas DataFrame\n",
    "X=pd.DataFrame(countsDense)\n",
    "print(X.shape)\n",
    "\n",
    "\n",
    "#get the targets to train/predict\n",
    "#lets represent ham by 1 and spam by 0 \n",
    "codingDict = {\"ham\":1,\"spam\":0}\n",
    "messages['labelNew']=messages['label'].map(codingDict)\n",
    "targets = messages['labelNew'].values\n",
    "print(targets)\n",
    "print(messages.columns) #create new label 0/1 from spam/ham 'label', 'message', 'length', 'labelNew'\n",
    "\n",
    "Y=targets\n",
    "\n",
    "\n",
    "print(\"Shapes on Feat Mat and Target Matrix is %s %s \" % (counts.shape,targets.shape))\n",
    "\n",
    "#print the first feature vector \n",
    "print(\"The first feature vector is :\")\n",
    "print(counts[0,:])\n",
    "\n",
    "\n"
   ]
  },
  {
   "cell_type": "code",
   "execution_count": 31,
   "metadata": {
    "collapsed": false
   },
   "outputs": [
    {
     "name": "stdout",
     "output_type": "stream",
     "text": [
      "Prediction Score is  0.993720846789\n"
     ]
    }
   ],
   "source": [
    "#Naive Bayes Classifier\n",
    "from sklearn.naive_bayes import MultinomialNB\n",
    "classifier = MultinomialNB()\n",
    "classifier.fit(X,Y)\n",
    "\n",
    "#Predict \n",
    "pred=classifier.predict(X)\n",
    "\n",
    "print(\"Prediction Score is \" , classifier.score(X,Y))"
   ]
  },
  {
   "cell_type": "code",
   "execution_count": 32,
   "metadata": {
    "collapsed": false
   },
   "outputs": [
    {
     "name": "stdout",
     "output_type": "stream",
     "text": [
      "Data Set Shapes (4459, 7970) (4459,) (1115, 7970) (1115,)\n"
     ]
    }
   ],
   "source": [
    "#You cannot use the whole data for training and then test it on the model which used the test data also\n",
    "#so lets create Training and Test Data ???\n",
    "\n",
    "from sklearn.cross_validation import train_test_split\n",
    "X_train, X_test, Y_train, Y_test = train_test_split(X,Y, test_size=0.20, random_state=4)\n",
    "\n",
    "print(\"Data Set Shapes %s %s %s %s\" %(X_train.shape,Y_train.shape,X_test.shape,Y_test.shape))\n",
    "\n",
    "#DONT USE TEST DATA IN MODEL BUILDING PROCESS\n",
    "\n"
   ]
  },
  {
   "cell_type": "code",
   "execution_count": 33,
   "metadata": {
    "collapsed": false
   },
   "outputs": [
    {
     "name": "stdout",
     "output_type": "stream",
     "text": [
      "Train Accuracy: 0.99416909621\n",
      "Test Accuracy: 0.970403587444\n"
     ]
    }
   ],
   "source": [
    "#Build Model \n",
    "#fit the training data\n",
    "classifier = MultinomialNB()\n",
    "classifier.fit(X_train, Y_train) \n",
    "\n",
    "#predict on training data\n",
    "train_pred = classifier.predict(X_train)\n",
    "\n",
    "#predict on test data \n",
    "test_pred = classifier.predict(X_test)\n",
    "\n",
    "from sklearn import metrics\n",
    "print( \"Train Accuracy:\", metrics.accuracy_score(Y_train, train_pred))\n",
    "print( \"Test Accuracy:\", metrics.accuracy_score(Y_test, test_pred))"
   ]
  },
  {
   "cell_type": "code",
   "execution_count": 34,
   "metadata": {
    "collapsed": false
   },
   "outputs": [
    {
     "name": "stdout",
     "output_type": "stream",
     "text": [
      "Confusion Matrix for Training Data\n",
      "[[ 575   15]\n",
      " [  11 3858]]\n",
      "Confusion Matrix for Test Data\n",
      "[[141  16]\n",
      " [ 17 941]]\n"
     ]
    }
   ],
   "source": [
    "#Confusion Matrix is used to compute TruePos, FalsePos, TrueNeg, FalseNeg\n",
    "#This can be used to compute metrics like Precision, Recall, F1-Score which\n",
    "#are used to report classifier performance \n",
    "\n",
    "cmTest = metrics.confusion_matrix(Y_test, test_pred)\n",
    "cmTrain = metrics.confusion_matrix(Y_train, train_pred)\n",
    "\n",
    "print(\"Confusion Matrix for Training Data\")\n",
    "print(cmTrain)\n",
    "\n",
    "print(\"Confusion Matrix for Test Data\")\n",
    "print(cmTest)"
   ]
  },
  {
   "cell_type": "code",
   "execution_count": 35,
   "metadata": {
    "collapsed": false
   },
   "outputs": [
    {
     "name": "stdout",
     "output_type": "stream",
     "text": [
      "Precision: 0.983281086729\n",
      "Recall: 0.982254697286\n",
      "F1 Score: 0.982767624021\n"
     ]
    }
   ],
   "source": [
    "from sklearn import metrics\n",
    "\n",
    "#of the items we predicted to belong to a class C, how many did we get right\n",
    "print (\"Precision:\", metrics.precision_score(Y_test, test_pred, average='binary'))\n",
    "\n",
    "#of the items which belong to class C, how many did we get right\n",
    "print (\"Recall:\", metrics.recall_score(Y_test, test_pred, average='binary'))\n",
    "\n",
    "# a single number to represent performance, F1_Score = (2PR/(P+R))\n",
    "print (\"F1 Score:\", metrics.f1_score(Y_test, test_pred, average='binary'))"
   ]
  },
  {
   "cell_type": "markdown",
   "metadata": {},
   "source": [
    "# Use TfIDFVectorizer "
   ]
  },
  {
   "cell_type": "code",
   "execution_count": 36,
   "metadata": {
    "collapsed": false
   },
   "outputs": [
    {
     "name": "stdout",
     "output_type": "stream",
     "text": [
      "<class 'scipy.sparse.csr.csr_matrix'>\n",
      "<class 'numpy.matrixlib.defmatrix.matrix'>\n",
      "(5574, 7970)\n",
      "[1 1 0 ..., 1 1 1]\n",
      "Index(['label', 'message', 'length', 'messageStemmed', 'labelNew'], dtype='object')\n",
      "Shapes on Feat Mat and Target Matrix is (5574, 7970) (5574,) \n",
      "The first feature vector is :\n",
      "  (0, 7536)\t0.193710510317\n",
      "  (0, 1138)\t0.348686924906\n",
      "  (0, 3315)\t0.161811923942\n",
      "  (0, 1993)\t0.294574296835\n",
      "  (0, 1720)\t0.332859995787\n",
      "  (0, 4180)\t0.294574296835\n",
      "  (0, 7730)\t0.236963746858\n",
      "  (0, 3352)\t0.194080503704\n",
      "  (0, 1722)\t0.294574296835\n",
      "  (0, 5167)\t0.168155689475\n",
      "  (0, 1323)\t0.2651515607\n",
      "  (0, 2207)\t0.270037180084\n",
      "  (0, 5500)\t0.238095246665\n",
      "  (0, 4036)\t0.348686924906\n"
     ]
    }
   ],
   "source": [
    "tf_vectorizer = TfidfVectorizer(stop_words='english')\n",
    "\n",
    "#Fit tfidfvectorizer\n",
    "counts = tf_vectorizer.fit_transform(messages['messageStemmed'].values)\n",
    "print(type(counts))\n",
    "#<class 'scipy.sparse.csr.csr_matrix'>\n",
    "\n",
    "\n",
    "#convert to dense matrix\n",
    "countsDense=counts.todense()\n",
    "print(type(countsDense))\n",
    "\n",
    "#convert to Pandas DataFrame\n",
    "X=pd.DataFrame(countsDense)\n",
    "print(X.shape)\n",
    "\n",
    "\n",
    "#get the targets to train/predict\n",
    "#lets represent ham by 1 and spam by 0 \n",
    "codingDict = {\"ham\":1,\"spam\":0}\n",
    "messages['labelNew']=messages['label'].map(codingDict)\n",
    "targets = messages['labelNew'].values\n",
    "print(targets)\n",
    "print(messages.columns) #create new label 0/1 from spam/ham 'label', 'message', 'length', 'labelNew'\n",
    "\n",
    "Y=targets\n",
    "\n",
    "\n",
    "print(\"Shapes on Feat Mat and Target Matrix is %s %s \" % (counts.shape,targets.shape))\n",
    "\n",
    "#print the first feature vector \n",
    "print(\"The first feature vector is :\")\n",
    "print(counts[0,:])"
   ]
  },
  {
   "cell_type": "code",
   "execution_count": 37,
   "metadata": {
    "collapsed": false
   },
   "outputs": [
    {
     "name": "stdout",
     "output_type": "stream",
     "text": [
      "Prediction Score is  0.979906709724\n",
      "Data Set Shapes (4459, 7970) (4459,) (1115, 7970) (1115,)\n",
      "Train Accuracy: 0.976003588248\n",
      "Test Accuracy: 0.959641255605\n"
     ]
    }
   ],
   "source": [
    "#Naive Bayes Classifier\n",
    "classifier = MultinomialNB()\n",
    "classifier.fit(X,Y)\n",
    "\n",
    "#Predict \n",
    "pred=classifier.predict(X)\n",
    "\n",
    "print(\"Prediction Score is \" , classifier.score(X,Y))\n",
    "\n",
    "# You cannot use the whole data for training and then test it on the model which used the test data also\n",
    "#so lets create Training and Test Data ???\n",
    "\n",
    "from sklearn.cross_validation import train_test_split\n",
    "X_train, X_test, Y_train, Y_test = train_test_split(X,Y, test_size=0.20, random_state=4)\n",
    "\n",
    "print(\"Data Set Shapes %s %s %s %s\" %(X_train.shape,Y_train.shape,X_test.shape,Y_test.shape))\n",
    "\n",
    "#DONT USE TEST DATA IN MODEL BUILDING PROCESS\n",
    "\n",
    "#Build Model \n",
    "#fit the training data\n",
    "classifier = MultinomialNB()\n",
    "classifier.fit(X_train, Y_train) \n",
    "\n",
    "#predict on training data\n",
    "train_pred = classifier.predict(X_train)\n",
    "\n",
    "#predict on test data \n",
    "test_pred = classifier.predict(X_test)\n",
    "\n",
    "from sklearn import metrics\n",
    "print( \"Train Accuracy:\", metrics.accuracy_score(Y_train, train_pred))\n",
    "print( \"Test Accuracy:\", metrics.accuracy_score(Y_test, test_pred))\n",
    "\n"
   ]
  },
  {
   "cell_type": "code",
   "execution_count": 38,
   "metadata": {
    "collapsed": false
   },
   "outputs": [
    {
     "name": "stdout",
     "output_type": "stream",
     "text": [
      "Train Accuracy: 0.967032967033\n",
      "Test Accuracy: 0.943497757848\n"
     ]
    }
   ],
   "source": [
    "#Build Model \n",
    "#fit the training data\n",
    "from sklearn.linear_model import LogisticRegression\n",
    "classifier =LogisticRegression()\n",
    "classifier.fit(X_train, Y_train) \n",
    "\n",
    "#predict on training data\n",
    "train_pred = classifier.predict(X_train)\n",
    "\n",
    "#predict on test data \n",
    "test_pred = classifier.predict(X_test)\n",
    "\n",
    "from sklearn import metrics\n",
    "print( \"Train Accuracy:\", metrics.accuracy_score(Y_train, train_pred))\n",
    "print( \"Test Accuracy:\", metrics.accuracy_score(Y_test, test_pred))\n"
   ]
  },
  {
   "cell_type": "markdown",
   "metadata": {},
   "source": [
    "# CountVectorizer worked better in our case for Spam Classification compared to TfIDF Vectorizer"
   ]
  }
 ],
 "metadata": {
  "kernelspec": {
   "display_name": "Apache Toree - PySpark",
   "language": "python",
   "name": "apache_toree_pyspark"
  },
  "language_info": {
   "codemirror_mode": {
    "name": "ipython",
    "version": 3
   },
   "file_extension": ".py",
   "mimetype": "text/x-python",
   "name": "python",
   "nbconvert_exporter": "python",
   "pygments_lexer": "ipython3",
   "version": "3.5.1"
  }
 },
 "nbformat": 4,
 "nbformat_minor": 0
}
